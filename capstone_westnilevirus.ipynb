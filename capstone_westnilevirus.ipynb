{
 "cells": [
  {
   "cell_type": "markdown",
   "metadata": {},
   "source": [
    "# Capstone: West Nile Virus Challenge\n",
    " \n",
    "West Nile virus is most commonly spread to humans through infected mosquitos. Around 20% of people who become infected with the virus develop symptoms ranging from a persistent fever, to serious neurological illnesses that can result in death.\n",
    "\n",
    "In 2002, the first human cases of West Nile virus were reported in Chicago. By 2004 the City of Chicago and the Chicago Department of Public Health (CDPH) had established a comprehensive surveillance and control program that is still in effect today.\n",
    "\n",
    "Every week from late spring through the fall, mosquitos in traps across the city are tested for the virus. The results of these tests influence when and where the city will spray airborne pesticides to control adult mosquito populations.\n",
    "\n",
    "Given weather, location, testing, and spraying data, we are asked to predict when and where different species of mosquitos will test positive for West Nile virus. A more accurate method of predicting outbreaks of West Nile virus in mosquitos will help the City of Chicago and CPHD more efficiently and effectively allocate resources towards preventing transmission of this potentially deadly virus."
   ]
  },
  {
   "cell_type": "code",
   "execution_count": 4,
   "metadata": {
    "ExecuteTime": {
     "end_time": "2020-03-10T16:11:36.339447Z",
     "start_time": "2020-03-10T16:11:36.291075Z"
    }
   },
   "outputs": [],
   "source": [
    "import pandas as pd\n",
    "import numpy as np\n",
    "import matplotlib.pyplot as plt\n",
    "import seaborn as sns\n",
    "%matplotlib inline\n",
    "\n",
    "pd.set_option('display.max_columns',1000)\n",
    "\n",
    "from sklearn.linear_model import LogisticRegression\n",
    "from sklearn.model_selection import train_test_split, cross_val_score, TimeSeriesSplit, StratifiedKFold, GridSearchCV\n",
    "from sklearn.preprocessing import StandardScaler, OrdinalEncoder, PowerTransformer\n",
    "from sklearn.metrics import confusion_matrix, classification_report, roc_curve, auc, precision_recall_curve, average_precision_score, make_scorer, accuracy_score, roc_auc_score\n",
    "from sklearn.tree import DecisionTreeClassifier\n",
    "from sklearn.neighbors import KNeighborsClassifier\n",
    "from sklearn.ensemble import BaggingClassifier, RandomForestClassifier, GradientBoostingClassifier, IsolationForest\n",
    "from sklearn import naive_bayes\n",
    "from sklearn.svm import SVC\n",
    "from imblearn.over_sampling import SMOTE, SMOTENC, RandomOverSampler\n",
    "from imblearn.pipeline import Pipeline, make_pipeline\n",
    "from sklearn.decomposition import PCA\n",
    "from statsmodels.graphics.tsaplots import plot_acf, plot_pacf\n",
    "from datetime import datetime\n",
    "from datetime import date\n",
    "\n",
    "import tensorflow as tf\n",
    "\n",
    "from six import StringIO\n",
    "from sklearn.tree import export_graphviz\n",
    "import pydotplus\n",
    "from IPython.display import display\n",
    "from IPython.display import Image\n",
    "\n",
    "import pickle\n",
    "from tkinter import Tk\n",
    "from tkinter.filedialog import askopenfilename\n",
    "\n",
    "import pylab as plt"
   ]
  },
  {
   "cell_type": "markdown",
   "metadata": {},
   "source": [
    "## Data Loading and Cleaning"
   ]
  },
  {
   "cell_type": "markdown",
   "metadata": {},
   "source": [
    "### Training and Test data:\n",
    "The training set consists of data from 2007, 2009, 2011, and 2013, while in the test set we are requested \n",
    "to predict the test results for 2008, 2010, 2012, and 2014."
   ]
  },
  {
   "cell_type": "code",
   "execution_count": 5,
   "metadata": {
    "ExecuteTime": {
     "end_time": "2020-03-10T16:11:37.130675Z",
     "start_time": "2020-03-10T16:11:36.345326Z"
    },
    "scrolled": false
   },
   "outputs": [
    {
     "data": {
      "text/html": [
       "<div>\n",
       "<style scoped>\n",
       "    .dataframe tbody tr th:only-of-type {\n",
       "        vertical-align: middle;\n",
       "    }\n",
       "\n",
       "    .dataframe tbody tr th {\n",
       "        vertical-align: top;\n",
       "    }\n",
       "\n",
       "    .dataframe thead th {\n",
       "        text-align: right;\n",
       "    }\n",
       "</style>\n",
       "<table border=\"1\" class=\"dataframe\">\n",
       "  <thead>\n",
       "    <tr style=\"text-align: right;\">\n",
       "      <th></th>\n",
       "      <th>Address</th>\n",
       "      <th>Species</th>\n",
       "      <th>Block</th>\n",
       "      <th>Street</th>\n",
       "      <th>Trap</th>\n",
       "      <th>AddressNumberAndStreet</th>\n",
       "      <th>Latitude</th>\n",
       "      <th>Longitude</th>\n",
       "      <th>AddressAccuracy</th>\n",
       "      <th>NumMosquitos</th>\n",
       "      <th>WnvPresent</th>\n",
       "    </tr>\n",
       "    <tr>\n",
       "      <th>Date</th>\n",
       "      <th></th>\n",
       "      <th></th>\n",
       "      <th></th>\n",
       "      <th></th>\n",
       "      <th></th>\n",
       "      <th></th>\n",
       "      <th></th>\n",
       "      <th></th>\n",
       "      <th></th>\n",
       "      <th></th>\n",
       "      <th></th>\n",
       "    </tr>\n",
       "  </thead>\n",
       "  <tbody>\n",
       "    <tr>\n",
       "      <th>2007-05-29</th>\n",
       "      <td>4100 North Oak Park Avenue, Chicago, IL 60634,...</td>\n",
       "      <td>CULEX PIPIENS/RESTUANS</td>\n",
       "      <td>41</td>\n",
       "      <td>N OAK PARK AVE</td>\n",
       "      <td>T002</td>\n",
       "      <td>4100  N OAK PARK AVE, Chicago, IL</td>\n",
       "      <td>41.95469</td>\n",
       "      <td>-87.800991</td>\n",
       "      <td>9</td>\n",
       "      <td>1</td>\n",
       "      <td>0</td>\n",
       "    </tr>\n",
       "  </tbody>\n",
       "</table>\n",
       "</div>"
      ],
      "text/plain": [
       "                                                      Address  \\\n",
       "Date                                                            \n",
       "2007-05-29  4100 North Oak Park Avenue, Chicago, IL 60634,...   \n",
       "\n",
       "                           Species  Block           Street  Trap  \\\n",
       "Date                                                               \n",
       "2007-05-29  CULEX PIPIENS/RESTUANS     41   N OAK PARK AVE  T002   \n",
       "\n",
       "                       AddressNumberAndStreet  Latitude  Longitude  \\\n",
       "Date                                                                 \n",
       "2007-05-29  4100  N OAK PARK AVE, Chicago, IL  41.95469 -87.800991   \n",
       "\n",
       "            AddressAccuracy  NumMosquitos  WnvPresent  \n",
       "Date                                                   \n",
       "2007-05-29                9             1           0  "
      ]
     },
     "execution_count": 5,
     "metadata": {},
     "output_type": "execute_result"
    }
   ],
   "source": [
    "train = pd.read_csv('./datasets/train.csv')\n",
    "\n",
    "# Make Date into datetime object, and index:\n",
    "train['Date'] = pd.to_datetime(train.Date, format='%Y-%m-%d')\n",
    "train.set_index('Date', inplace=True, drop=True)\n",
    "train.head(1)"
   ]
  },
  {
   "cell_type": "markdown",
   "metadata": {},
   "source": [
    "Calculating the baseline, we see a class imbalance: 5% of the training data tested positive for the virus."
   ]
  },
  {
   "cell_type": "code",
   "execution_count": 6,
   "metadata": {
    "ExecuteTime": {
     "end_time": "2020-03-10T16:11:37.165788Z",
     "start_time": "2020-03-10T16:11:37.139720Z"
    }
   },
   "outputs": [
    {
     "name": "stdout",
     "output_type": "stream",
     "text": [
      "Baseline = 0.9475537787930707\n"
     ]
    },
    {
     "data": {
      "text/plain": [
       "0    9955\n",
       "1     551\n",
       "Name: WnvPresent, dtype: int64"
      ]
     },
     "execution_count": 6,
     "metadata": {},
     "output_type": "execute_result"
    }
   ],
   "source": [
    "print('Baseline = {}'.format(train.WnvPresent.value_counts(normalize=True).max()))\n",
    "train.WnvPresent.value_counts()"
   ]
  },
  {
   "cell_type": "code",
   "execution_count": 7,
   "metadata": {
    "ExecuteTime": {
     "end_time": "2020-03-10T16:11:37.780161Z",
     "start_time": "2020-03-10T16:11:37.170209Z"
    },
    "scrolled": true
   },
   "outputs": [
    {
     "data": {
      "text/html": [
       "<div>\n",
       "<style scoped>\n",
       "    .dataframe tbody tr th:only-of-type {\n",
       "        vertical-align: middle;\n",
       "    }\n",
       "\n",
       "    .dataframe tbody tr th {\n",
       "        vertical-align: top;\n",
       "    }\n",
       "\n",
       "    .dataframe thead th {\n",
       "        text-align: right;\n",
       "    }\n",
       "</style>\n",
       "<table border=\"1\" class=\"dataframe\">\n",
       "  <thead>\n",
       "    <tr style=\"text-align: right;\">\n",
       "      <th></th>\n",
       "      <th>Id</th>\n",
       "      <th>Address</th>\n",
       "      <th>Species</th>\n",
       "      <th>Block</th>\n",
       "      <th>Street</th>\n",
       "      <th>Trap</th>\n",
       "      <th>AddressNumberAndStreet</th>\n",
       "      <th>Latitude</th>\n",
       "      <th>Longitude</th>\n",
       "      <th>AddressAccuracy</th>\n",
       "    </tr>\n",
       "    <tr>\n",
       "      <th>Date</th>\n",
       "      <th></th>\n",
       "      <th></th>\n",
       "      <th></th>\n",
       "      <th></th>\n",
       "      <th></th>\n",
       "      <th></th>\n",
       "      <th></th>\n",
       "      <th></th>\n",
       "      <th></th>\n",
       "      <th></th>\n",
       "    </tr>\n",
       "  </thead>\n",
       "  <tbody>\n",
       "    <tr>\n",
       "      <th>2008-06-11</th>\n",
       "      <td>1</td>\n",
       "      <td>4100 North Oak Park Avenue, Chicago, IL 60634,...</td>\n",
       "      <td>CULEX PIPIENS/RESTUANS</td>\n",
       "      <td>41</td>\n",
       "      <td>N OAK PARK AVE</td>\n",
       "      <td>T002</td>\n",
       "      <td>4100  N OAK PARK AVE, Chicago, IL</td>\n",
       "      <td>41.95469</td>\n",
       "      <td>-87.800991</td>\n",
       "      <td>9</td>\n",
       "    </tr>\n",
       "  </tbody>\n",
       "</table>\n",
       "</div>"
      ],
      "text/plain": [
       "            Id                                            Address  \\\n",
       "Date                                                                \n",
       "2008-06-11   1  4100 North Oak Park Avenue, Chicago, IL 60634,...   \n",
       "\n",
       "                           Species  Block           Street  Trap  \\\n",
       "Date                                                               \n",
       "2008-06-11  CULEX PIPIENS/RESTUANS     41   N OAK PARK AVE  T002   \n",
       "\n",
       "                       AddressNumberAndStreet  Latitude  Longitude  \\\n",
       "Date                                                                 \n",
       "2008-06-11  4100  N OAK PARK AVE, Chicago, IL  41.95469 -87.800991   \n",
       "\n",
       "            AddressAccuracy  \n",
       "Date                         \n",
       "2008-06-11                9  "
      ]
     },
     "execution_count": 7,
     "metadata": {},
     "output_type": "execute_result"
    }
   ],
   "source": [
    "test = pd.read_csv('./datasets/test.csv')\n",
    "# Make Date into datetime object, and index\n",
    "test['Date'] = pd.to_datetime(test.Date, format='%Y-%m-%d')\n",
    "test.set_index('Date', inplace=True, drop=True)\n",
    "test.head(1)"
   ]
  },
  {
   "cell_type": "markdown",
   "metadata": {},
   "source": [
    "### Weather Data:\n",
    "It is believed that hot and dry conditions are more favorable for West Nile virus than cold and wet. \n",
    "We are provided with the dataset from NOAA of the weather conditions of 2007 to 2014, during the months of\n",
    "the tests. \n",
    "    Station 1: CHICAGO O'HARE INTERNATIONAL AIRPORT Lat: 41.995 Lon: -87.933 Elev: 662 ft. above sea level\n",
    "    Station 2: CHICAGO MIDWAY INTL ARPT Lat: 41.786 Lon: -87.752 Elev: 612 ft. above sea level"
   ]
  },
  {
   "cell_type": "code",
   "execution_count": 10,
   "metadata": {
    "ExecuteTime": {
     "end_time": "2020-03-10T16:11:38.574353Z",
     "start_time": "2020-03-10T16:11:37.853895Z"
    },
    "scrolled": false
   },
   "outputs": [
    {
     "data": {
      "text/html": [
       "<div>\n",
       "<style scoped>\n",
       "    .dataframe tbody tr th:only-of-type {\n",
       "        vertical-align: middle;\n",
       "    }\n",
       "\n",
       "    .dataframe tbody tr th {\n",
       "        vertical-align: top;\n",
       "    }\n",
       "\n",
       "    .dataframe thead th {\n",
       "        text-align: right;\n",
       "    }\n",
       "</style>\n",
       "<table border=\"1\" class=\"dataframe\">\n",
       "  <thead>\n",
       "    <tr style=\"text-align: right;\">\n",
       "      <th></th>\n",
       "      <th>Station</th>\n",
       "      <th>Latitude</th>\n",
       "      <th>Longitude</th>\n",
       "      <th>Tmax</th>\n",
       "      <th>Tmin</th>\n",
       "      <th>Tavg</th>\n",
       "      <th>Depart</th>\n",
       "      <th>DewPoint</th>\n",
       "      <th>WetBulb</th>\n",
       "      <th>Heat</th>\n",
       "      <th>Cool</th>\n",
       "      <th>Sunrise</th>\n",
       "      <th>Sunset</th>\n",
       "      <th>CodeSum</th>\n",
       "      <th>Depth</th>\n",
       "      <th>Water1</th>\n",
       "      <th>SnowFall</th>\n",
       "      <th>PrecipTotal</th>\n",
       "      <th>StnPressure</th>\n",
       "      <th>SeaLevel</th>\n",
       "      <th>ResultSpeed</th>\n",
       "      <th>ResultDir</th>\n",
       "      <th>AvgSpeed</th>\n",
       "    </tr>\n",
       "    <tr>\n",
       "      <th>Date</th>\n",
       "      <th></th>\n",
       "      <th></th>\n",
       "      <th></th>\n",
       "      <th></th>\n",
       "      <th></th>\n",
       "      <th></th>\n",
       "      <th></th>\n",
       "      <th></th>\n",
       "      <th></th>\n",
       "      <th></th>\n",
       "      <th></th>\n",
       "      <th></th>\n",
       "      <th></th>\n",
       "      <th></th>\n",
       "      <th></th>\n",
       "      <th></th>\n",
       "      <th></th>\n",
       "      <th></th>\n",
       "      <th></th>\n",
       "      <th></th>\n",
       "      <th></th>\n",
       "      <th></th>\n",
       "      <th></th>\n",
       "    </tr>\n",
       "  </thead>\n",
       "  <tbody>\n",
       "    <tr>\n",
       "      <th>2007-05-01</th>\n",
       "      <td>1</td>\n",
       "      <td>41.995</td>\n",
       "      <td>-87.933</td>\n",
       "      <td>83</td>\n",
       "      <td>50</td>\n",
       "      <td>66.5</td>\n",
       "      <td>14</td>\n",
       "      <td>51</td>\n",
       "      <td>56</td>\n",
       "      <td>0</td>\n",
       "      <td>2</td>\n",
       "      <td>0448</td>\n",
       "      <td>1849</td>\n",
       "      <td></td>\n",
       "      <td>0</td>\n",
       "      <td>M</td>\n",
       "      <td>0.0</td>\n",
       "      <td>0.0</td>\n",
       "      <td>29.10</td>\n",
       "      <td>29.82</td>\n",
       "      <td>1.7</td>\n",
       "      <td>27</td>\n",
       "      <td>9.2</td>\n",
       "    </tr>\n",
       "  </tbody>\n",
       "</table>\n",
       "</div>"
      ],
      "text/plain": [
       "            Station  Latitude  Longitude  Tmax  Tmin  Tavg Depart  DewPoint  \\\n",
       "Date                                                                          \n",
       "2007-05-01        1    41.995    -87.933    83    50  66.5     14        51   \n",
       "\n",
       "           WetBulb Heat Cool Sunrise Sunset CodeSum Depth Water1 SnowFall  \\\n",
       "Date                                                                        \n",
       "2007-05-01      56    0    2    0448   1849             0      M      0.0   \n",
       "\n",
       "            PrecipTotal StnPressure SeaLevel  ResultSpeed  ResultDir AvgSpeed  \n",
       "Date                                                                           \n",
       "2007-05-01          0.0       29.10    29.82          1.7         27      9.2  "
      ]
     },
     "execution_count": 10,
     "metadata": {},
     "output_type": "execute_result"
    }
   ],
   "source": [
    "weather = pd.read_csv('./datasets/weather.csv')\n",
    "\n",
    "# Make Date into datetime object, and index\n",
    "weather['Date'] = pd.to_datetime(weather.Date, format='%Y-%m-%d')\n",
    "weather.set_index('Date', inplace=True, drop=True)\n",
    "\n",
    "# Data Cleaning:\n",
    "weather['Tavg'] = pd.to_numeric(weather.apply(lambda x: (x['Tmin']+x['Tmax'])/2, axis=1))\n",
    "weather['PrecipTotal'] = pd.to_numeric(weather.apply(lambda x: 0 if x['PrecipTotal']=='  T' or x['PrecipTotal']=='M' else x['PrecipTotal'], axis=1))\n",
    "\n",
    "\n",
    "# Add Long / Lat:\n",
    "weather.insert(1,'Latitude', weather.apply(lambda x: 41.995 if x['Station']==1 else 41.786, axis=1))\n",
    "weather.insert(2,'Longitude', weather.apply(lambda x: -87.933 if x['Station']==1 else -87.752, axis=1))\n",
    "\n",
    "weather.head(1)"
   ]
  },
  {
   "cell_type": "code",
   "execution_count": 11,
   "metadata": {
    "ExecuteTime": {
     "end_time": "2020-03-10T16:11:38.678165Z",
     "start_time": "2020-03-10T16:11:38.582586Z"
    },
    "scrolled": true
   },
   "outputs": [
    {
     "data": {
      "text/html": [
       "<div>\n",
       "<style scoped>\n",
       "    .dataframe tbody tr th:only-of-type {\n",
       "        vertical-align: middle;\n",
       "    }\n",
       "\n",
       "    .dataframe tbody tr th {\n",
       "        vertical-align: top;\n",
       "    }\n",
       "\n",
       "    .dataframe thead th {\n",
       "        text-align: right;\n",
       "    }\n",
       "</style>\n",
       "<table border=\"1\" class=\"dataframe\">\n",
       "  <thead>\n",
       "    <tr style=\"text-align: right;\">\n",
       "      <th></th>\n",
       "      <th>Station_station_1</th>\n",
       "      <th>Latitude_station_1</th>\n",
       "      <th>Longitude_station_1</th>\n",
       "      <th>Tmax_station_1</th>\n",
       "      <th>Tmin_station_1</th>\n",
       "      <th>Tavg_station_1</th>\n",
       "      <th>Depart_station_1</th>\n",
       "      <th>DewPoint_station_1</th>\n",
       "      <th>WetBulb_station_1</th>\n",
       "      <th>Heat_station_1</th>\n",
       "      <th>Cool_station_1</th>\n",
       "      <th>Sunrise_station_1</th>\n",
       "      <th>Sunset_station_1</th>\n",
       "      <th>CodeSum_station_1</th>\n",
       "      <th>Depth_station_1</th>\n",
       "      <th>Water1_station_1</th>\n",
       "      <th>SnowFall_station_1</th>\n",
       "      <th>PrecipTotal_station_1</th>\n",
       "      <th>StnPressure_station_1</th>\n",
       "      <th>SeaLevel_station_1</th>\n",
       "      <th>ResultSpeed_station_1</th>\n",
       "      <th>ResultDir_station_1</th>\n",
       "      <th>AvgSpeed_station_1</th>\n",
       "      <th>Station_station_2</th>\n",
       "      <th>Latitude_station_2</th>\n",
       "      <th>Longitude_station_2</th>\n",
       "      <th>Tmax_station_2</th>\n",
       "      <th>Tmin_station_2</th>\n",
       "      <th>Tavg_station_2</th>\n",
       "      <th>Depart_station_2</th>\n",
       "      <th>DewPoint_station_2</th>\n",
       "      <th>WetBulb_station_2</th>\n",
       "      <th>Heat_station_2</th>\n",
       "      <th>Cool_station_2</th>\n",
       "      <th>Sunrise_station_2</th>\n",
       "      <th>Sunset_station_2</th>\n",
       "      <th>CodeSum_station_2</th>\n",
       "      <th>Depth_station_2</th>\n",
       "      <th>Water1_station_2</th>\n",
       "      <th>SnowFall_station_2</th>\n",
       "      <th>PrecipTotal_station_2</th>\n",
       "      <th>StnPressure_station_2</th>\n",
       "      <th>SeaLevel_station_2</th>\n",
       "      <th>ResultSpeed_station_2</th>\n",
       "      <th>ResultDir_station_2</th>\n",
       "      <th>AvgSpeed_station_2</th>\n",
       "    </tr>\n",
       "    <tr>\n",
       "      <th>Date</th>\n",
       "      <th></th>\n",
       "      <th></th>\n",
       "      <th></th>\n",
       "      <th></th>\n",
       "      <th></th>\n",
       "      <th></th>\n",
       "      <th></th>\n",
       "      <th></th>\n",
       "      <th></th>\n",
       "      <th></th>\n",
       "      <th></th>\n",
       "      <th></th>\n",
       "      <th></th>\n",
       "      <th></th>\n",
       "      <th></th>\n",
       "      <th></th>\n",
       "      <th></th>\n",
       "      <th></th>\n",
       "      <th></th>\n",
       "      <th></th>\n",
       "      <th></th>\n",
       "      <th></th>\n",
       "      <th></th>\n",
       "      <th></th>\n",
       "      <th></th>\n",
       "      <th></th>\n",
       "      <th></th>\n",
       "      <th></th>\n",
       "      <th></th>\n",
       "      <th></th>\n",
       "      <th></th>\n",
       "      <th></th>\n",
       "      <th></th>\n",
       "      <th></th>\n",
       "      <th></th>\n",
       "      <th></th>\n",
       "      <th></th>\n",
       "      <th></th>\n",
       "      <th></th>\n",
       "      <th></th>\n",
       "      <th></th>\n",
       "      <th></th>\n",
       "      <th></th>\n",
       "      <th></th>\n",
       "      <th></th>\n",
       "      <th></th>\n",
       "    </tr>\n",
       "  </thead>\n",
       "  <tbody>\n",
       "    <tr>\n",
       "      <th>2007-05-01</th>\n",
       "      <td>1</td>\n",
       "      <td>41.995</td>\n",
       "      <td>-87.933</td>\n",
       "      <td>83</td>\n",
       "      <td>50</td>\n",
       "      <td>66.5</td>\n",
       "      <td>14</td>\n",
       "      <td>51</td>\n",
       "      <td>56</td>\n",
       "      <td>0</td>\n",
       "      <td>2</td>\n",
       "      <td>0448</td>\n",
       "      <td>1849</td>\n",
       "      <td></td>\n",
       "      <td>0</td>\n",
       "      <td>M</td>\n",
       "      <td>0.0</td>\n",
       "      <td>0.0</td>\n",
       "      <td>29.10</td>\n",
       "      <td>29.82</td>\n",
       "      <td>1.7</td>\n",
       "      <td>27</td>\n",
       "      <td>9.2</td>\n",
       "      <td>2</td>\n",
       "      <td>41.786</td>\n",
       "      <td>-87.752</td>\n",
       "      <td>84</td>\n",
       "      <td>52</td>\n",
       "      <td>68.0</td>\n",
       "      <td>M</td>\n",
       "      <td>51</td>\n",
       "      <td>57</td>\n",
       "      <td>0</td>\n",
       "      <td>3</td>\n",
       "      <td>-</td>\n",
       "      <td>-</td>\n",
       "      <td></td>\n",
       "      <td>M</td>\n",
       "      <td>M</td>\n",
       "      <td>M</td>\n",
       "      <td>0.0</td>\n",
       "      <td>29.18</td>\n",
       "      <td>29.82</td>\n",
       "      <td>2.7</td>\n",
       "      <td>25</td>\n",
       "      <td>9.6</td>\n",
       "    </tr>\n",
       "  </tbody>\n",
       "</table>\n",
       "</div>"
      ],
      "text/plain": [
       "            Station_station_1  Latitude_station_1  Longitude_station_1  \\\n",
       "Date                                                                     \n",
       "2007-05-01                  1              41.995              -87.933   \n",
       "\n",
       "            Tmax_station_1  Tmin_station_1  Tavg_station_1 Depart_station_1  \\\n",
       "Date                                                                          \n",
       "2007-05-01              83              50            66.5               14   \n",
       "\n",
       "            DewPoint_station_1 WetBulb_station_1 Heat_station_1  \\\n",
       "Date                                                              \n",
       "2007-05-01                  51                56              0   \n",
       "\n",
       "           Cool_station_1 Sunrise_station_1 Sunset_station_1  \\\n",
       "Date                                                           \n",
       "2007-05-01              2              0448             1849   \n",
       "\n",
       "           CodeSum_station_1 Depth_station_1 Water1_station_1  \\\n",
       "Date                                                            \n",
       "2007-05-01                                 0                M   \n",
       "\n",
       "           SnowFall_station_1  PrecipTotal_station_1 StnPressure_station_1  \\\n",
       "Date                                                                         \n",
       "2007-05-01                0.0                    0.0                 29.10   \n",
       "\n",
       "           SeaLevel_station_1  ResultSpeed_station_1  ResultDir_station_1  \\\n",
       "Date                                                                        \n",
       "2007-05-01              29.82                    1.7                   27   \n",
       "\n",
       "           AvgSpeed_station_1  Station_station_2  Latitude_station_2  \\\n",
       "Date                                                                   \n",
       "2007-05-01                9.2                  2              41.786   \n",
       "\n",
       "            Longitude_station_2  Tmax_station_2  Tmin_station_2  \\\n",
       "Date                                                              \n",
       "2007-05-01              -87.752              84              52   \n",
       "\n",
       "            Tavg_station_2 Depart_station_2  DewPoint_station_2  \\\n",
       "Date                                                              \n",
       "2007-05-01            68.0                M                  51   \n",
       "\n",
       "           WetBulb_station_2 Heat_station_2 Cool_station_2 Sunrise_station_2  \\\n",
       "Date                                                                           \n",
       "2007-05-01                57              0              3                 -   \n",
       "\n",
       "           Sunset_station_2 CodeSum_station_2 Depth_station_2  \\\n",
       "Date                                                            \n",
       "2007-05-01                -                                 M   \n",
       "\n",
       "           Water1_station_2 SnowFall_station_2  PrecipTotal_station_2  \\\n",
       "Date                                                                    \n",
       "2007-05-01                M                  M                    0.0   \n",
       "\n",
       "           StnPressure_station_2 SeaLevel_station_2  ResultSpeed_station_2  \\\n",
       "Date                                                                         \n",
       "2007-05-01                 29.18              29.82                    2.7   \n",
       "\n",
       "            ResultDir_station_2 AvgSpeed_station_2  \n",
       "Date                                                \n",
       "2007-05-01                   25                9.6  "
      ]
     },
     "execution_count": 11,
     "metadata": {},
     "output_type": "execute_result"
    }
   ],
   "source": [
    "# Reformatting weather data into flattened version for merging with train data:\n",
    "weather_station_1 = weather[weather['Station']==1]\n",
    "weather_station_2 = weather[weather['Station']==2]\n",
    "\n",
    "weather_df = weather_station_1.merge(weather_station_2,\n",
    "                                     how='inner',\n",
    "                                     on='Date',\n",
    "                                     suffixes=('_station_1','_station_2'))\n",
    "\n",
    "weather_df.head(1)"
   ]
  },
  {
   "cell_type": "markdown",
   "metadata": {},
   "source": [
    "#### PCA\n",
    "Many weather features to comprehend, some of which are highly correlated as evidenced by the heatmap.\n",
    "We will use the cumulated explained_variance_ratio to test this"
   ]
  },
  {
   "cell_type": "code",
   "execution_count": 12,
   "metadata": {
    "ExecuteTime": {
     "end_time": "2020-03-10T16:11:39.833583Z",
     "start_time": "2020-03-10T16:11:38.690004Z"
    }
   },
   "outputs": [
    {
     "data": {
      "image/png": "[encoded data removed]",
      "text/plain": [
       "<Figure size 432x288 with 2 Axes>"
      ]
     },
     "metadata": {
      "needs_background": "light"
     },
     "output_type": "display_data"
    }
   ],
   "source": [
    "# Prepare a weather_pca dataframe with string dtypes converted to numeric, and standardise:\n",
    "weather_pca = weather_df.drop(columns=['Station_station_1','Station_station_2',\n",
    "                                       'Latitude_station_1','Longitude_station_1',\n",
    "                                       'Latitude_station_2','Longitude_station_2',\n",
    "                                       'Depth_station_1','Water1_station_1',\n",
    "                                       'Depth_station_2','Water1_station_2',\n",
    "                                       'Sunrise_station_1','Sunset_station_1',\n",
    "                                       'Sunrise_station_2','Sunset_station_2',\n",
    "                                       'Depart_station_1','Depart_station_2',\n",
    "                                       'SnowFall_station_1','SnowFall_station_2',\n",
    "                                       'CodeSum_station_1','CodeSum_station_2']).replace({'M':0,'  T':0, '-':0}).apply(pd.to_numeric)\n",
    "scaler = StandardScaler()\n",
    "weather_pca = pd.DataFrame(scaler.fit_transform(weather_pca), columns=weather_pca.columns)\n",
    "\n",
    "# Check heatmap for any correlations that would be helped with PCA:\n",
    "sns.heatmap(weather_pca.corr(), vmin=-1, vmax=1);"
   ]
  },
  {
   "cell_type": "code",
   "execution_count": 13,
   "metadata": {
    "ExecuteTime": {
     "end_time": "2020-03-10T16:11:40.374676Z",
     "start_time": "2020-03-10T16:11:39.881705Z"
    }
   },
   "outputs": [
    {
     "data": {
      "image/png": "[encoded data removed]",
      "text/plain": [
       "<Figure size 432x288 with 1 Axes>"
      ]
     },
     "metadata": {
      "needs_background": "light"
     },
     "output_type": "display_data"
    }
   ],
   "source": [
    "# Fit PCA model and assess:\n",
    "pca = PCA()\n",
    "pca.fit(weather_pca)\n",
    "\n",
    "# Plot the explained_variance_ratio_\n",
    "x_values = list(range(1, pca.n_components_+1))\n",
    "plt.plot(x_values, pca.explained_variance_ratio_)\n",
    "plt.scatter(x_values, pca.explained_variance_ratio_)\n",
    "plt.plot(x_values, np.cumsum(pca.explained_variance_ratio_))\n",
    "plt.scatter(x_values, np.cumsum(pca.explained_variance_ratio_))\n",
    "plt.title('Explained variance')\n",
    "plt.xlabel('Principal Component')\n",
    "plt.ylabel('Variance Explained (%)')\n",
    "plt.show()"
   ]
  },
  {
   "cell_type": "code",
   "execution_count": 14,
   "metadata": {
    "ExecuteTime": {
     "end_time": "2020-03-10T16:11:41.516177Z",
     "start_time": "2020-03-10T16:11:40.379118Z"
    }
   },
   "outputs": [
    {
     "data": {
      "image/png": "[encoded data removed]",
      "text/plain": [
       "<Figure size 720x432 with 2 Axes>"
      ]
     },
     "metadata": {
      "needs_background": "light"
     },
     "output_type": "display_data"
    }
   ],
   "source": [
    "weather_dict = {'weather_PC'+str(i+1): pca.components_[i] for i in range(len(pca.components_))}\n",
    "weather_pca_df = pd.DataFrame(weather_dict, index=weather_pca.columns)\n",
    "\n",
    "weather_pcs = pd.DataFrame(pca.transform(weather_pca),\n",
    "                           columns=['weather_PC'+str(i+1) for i in range(len(weather_pca.columns))],\n",
    "                           index=weather_df.index)\n",
    "plt.figure(figsize=(10,6))\n",
    "sns.heatmap(weather_pca_df, vmin=-1, vmax=1, );"
   ]
  },
  {
   "cell_type": "markdown",
   "metadata": {},
   "source": [
    "### Spray Data\n",
    "\n",
    "The City of Chicago also does spraying to kill mosquitos. We are given the GIS data for their spray efforts\n",
    "in 2011 and 2013. Spraying can reduce the number of mosquitos in the area, and therefore might eliminate the appearance of West Nile virus."
   ]
  },
  {
   "cell_type": "code",
   "execution_count": 15,
   "metadata": {
    "ExecuteTime": {
     "end_time": "2020-03-10T16:11:43.660405Z",
     "start_time": "2020-03-10T16:11:41.520173Z"
    },
    "scrolled": true
   },
   "outputs": [],
   "source": [
    "spray = pd.read_csv('./datasets/spray.csv')\n",
    "spray['Time'] = spray['Time'].fillna(value=spray.mode().Time[0])\n",
    "spray['DateTime'] = spray.apply(lambda x: str(x['Date'])+' '+str(x['Time']), axis=1)\n",
    "spray['DateTime'] = spray.apply(lambda x: datetime.strptime(str(x['DateTime']), '%Y-%m-%d %I:%M:%S %p'), axis=1)\n",
    "spray['Date'] = spray.apply(lambda x: datetime.strptime(str(x['Date']), '%Y-%m-%d'), axis=1)\n",
    "spray['Latitude2'] = np.round(spray.Latitude,2)\n",
    "spray['Longitude2'] = np.round(spray.Longitude,2)\n",
    "spray.set_index('DateTime', inplace=True, drop=True)\n",
    "spray_df = spray.drop_duplicates(subset=['Date','Latitude2','Longitude2'])"
   ]
  },
  {
   "cell_type": "markdown",
   "metadata": {},
   "source": [
    "## EDA: visualise and analyse data"
   ]
  },
  {
   "cell_type": "markdown",
   "metadata": {},
   "source": [
    "### Prepare train, test dataframes"
   ]
  },
  {
   "cell_type": "code",
   "execution_count": 16,
   "metadata": {
    "ExecuteTime": {
     "end_time": "2020-03-10T16:11:45.320095Z",
     "start_time": "2020-03-10T16:11:43.664712Z"
    }
   },
   "outputs": [],
   "source": [
    "# Merging weather data onto train,test data:\n",
    "train_df = train.merge(weather_df, how='left', on='Date', suffixes=('',''))\n",
    "test_df = test.merge(weather_df, how='left', on='Date', suffixes=('',''))\n",
    "# Merging weather_pcs data onto train,test data:\n",
    "train_df = train_df.merge(weather_pcs, how='left', on='Date', suffixes=('',''))\n",
    "test_df = test_df.merge(weather_pcs, how='left', on='Date', suffixes=('',''))\n",
    "# Merging spray data onto train,test data:\n",
    "    # Creating approx. lat,lon co-ordinates to match spray_df\n",
    "train_df['Latitude2'] = np.round(train_df.Latitude,2)\n",
    "train_df['Longitude2'] = np.round(train_df.Longitude,2)\n",
    "test_df['Latitude2'] = np.round(test_df.Latitude,2)\n",
    "test_df['Longitude2'] = np.round(test_df.Longitude,2)\n",
    "    # Merge with spray_df\n",
    "train_df = train_df.merge(spray_df, how='left', on=['Date','Latitude2','Longitude2'], suffixes=('','_spray'))\n",
    "train_df['isSpray'] = [0 if x==0 else 1 for x in train_df.Time.fillna(value=0)]\n",
    "train_df.set_index('Date', inplace=True, drop=True)\n",
    "test_df = test_df.merge(spray_df, how='left', on=['Date','Latitude2','Longitude2'], suffixes=('','_spray'))\n",
    "test_df['isSpray'] = [0 if x==0 else 1 for x in test_df.Time.fillna(value=0)]\n",
    "test_df.set_index('Date', inplace=True, drop=True)"
   ]
  },
  {
   "cell_type": "markdown",
   "metadata": {},
   "source": [
    "### Scatter plots\n",
    "Visualising the data shows that incidence of the virus was concentrated in August, and also that a handful of Traps recorded far higher incidences"
   ]
  },
  {
   "cell_type": "code",
   "execution_count": null,
   "metadata": {
    "ExecuteTime": {
     "end_time": "2020-03-04T09:36:42.070259Z",
     "start_time": "2020-03-04T09:36:37.773210Z"
    },
    "code_folding": []
   },
   "outputs": [],
   "source": [
    "train_month_grp = train.groupby(train.index.month_name()).agg({'WnvPresent':'sum',\n",
    "                                                        'NumMosquitos': 'sum'}).sort_values('WnvPresent',\n",
    "                                                                                            ascending=False)\n",
    "train_year_grp = train.groupby(train.index.year).agg({'WnvPresent':'sum',\n",
    "                                                      'NumMosquitos': 'sum'}).sort_values('WnvPresent',\n",
    "                                                                                          ascending=False)\n",
    "train_monthyear_grp = train.groupby(train.index.to_period('M')).agg({'WnvPresent':'sum',\n",
    "                                                                     'NumMosquitos': 'sum'}).sort_values('WnvPresent',\n",
    "                                                                                                         ascending=False)\n",
    "train_trap_grp = train.groupby('Trap').agg({'WnvPresent':'sum',\n",
    "                                            'NumMosquitos': 'sum'}).sort_values('WnvPresent',\n",
    "                                                                                ascending=False)\n",
    "train_species_grp = train.groupby('Species').agg({'WnvPresent':'sum',\n",
    "                                                  'NumMosquitos': 'sum'}).sort_values('WnvPresent',\n",
    "                                                                                      ascending=False)\n",
    "# Scatter-plot both sets of data:\n",
    "fig, ax = plt.subplots(nrows=3, ncols=2, figsize=(12,12))\n",
    "ax[0,0].scatter(train_month_grp['NumMosquitos'], train_month_grp['WnvPresent']);\n",
    "for i, xi in enumerate(train_month_grp.index):\n",
    "    ax[0,0].annotate(xi, (train_month_grp.iloc[i,1], train_month_grp.iloc[i,0]))\n",
    "ax[0,0].set_xlabel('NumMosquitos:sum', fontsize=10)\n",
    "ax[0,0].set_ylabel('WnvPresent:sum', fontsize=10)\n",
    "ax[0,0].set_title('Months with highest Wnv incidence', fontsize=16)\n",
    "\n",
    "ax[0,1].scatter(train_year_grp['NumMosquitos'], train_year_grp['WnvPresent']);\n",
    "for i, xi in enumerate(train_year_grp.index):\n",
    "    ax[0,1].annotate(xi, (train_year_grp.iloc[i,1], train_year_grp.iloc[i,0]))\n",
    "ax[0,1].set_xlabel('NumMosquitos:sum', fontsize=10)\n",
    "ax[0,1].set_ylabel('WnvPresent:sum', fontsize=10)\n",
    "ax[0,1].set_title('Years with highest Wnv incidence', fontsize=16)\n",
    "\n",
    "ax[1,0].scatter(train_monthyear_grp['NumMosquitos'], train_monthyear_grp['WnvPresent']);\n",
    "for i, xi in enumerate(train_monthyear_grp.index):\n",
    "    ax[1,0].annotate(xi, (train_monthyear_grp.iloc[i,1], train_monthyear_grp.iloc[i,0]))\n",
    "ax[1,0].set_xlabel('NumMosquitos:sum', fontsize=10)\n",
    "ax[1,0].set_ylabel('WnvPresent:sum', fontsize=10)\n",
    "ax[1,0].set_title('Year-Month with highest Wnv incidence', fontsize=16)\n",
    "\n",
    "ax[1,1].scatter(train_trap_grp['NumMosquitos'], train_trap_grp['WnvPresent']);\n",
    "for i, xi in enumerate(train_trap_grp.index):\n",
    "    ax[1,1].annotate(xi, (train_trap_grp.iloc[i,1], train_trap_grp.iloc[i,0]))\n",
    "ax[1,1].set_xlabel('NumMosquitos:sum', fontsize=10)\n",
    "ax[1,1].set_ylabel('WnvPresent:sum', fontsize=10)\n",
    "ax[1,1].set_title('Traps with highest Wnv incidence', fontsize=16)\n",
    "\n",
    "ax[2,0].scatter(train_species_grp['NumMosquitos'], train_species_grp['WnvPresent']);\n",
    "for i, xi in enumerate(train_species_grp.index):\n",
    "    ax[2,0].annotate(xi, (train_species_grp.iloc[i,1], train_species_grp.iloc[i,0]))\n",
    "ax[2,0].set_xlabel('NumMosquitos:sum', fontsize=10)\n",
    "ax[2,0].set_ylabel('WnvPresent:sum', fontsize=10)\n",
    "ax[2,0].set_title('Species with highest Wnv incidence', fontsize=16)\n",
    "\n",
    "sns.scatterplot(train_df['Tavg_station_1'], train_df['NumMosquitos'], hue=train_df['WnvPresent'], ax=ax[2,1]);\n",
    "ax[2,1].set_xlabel('Tavg_station_1', fontsize=10)\n",
    "ax[2,1].set_ylabel('NumMosquitos', fontsize=10)\n",
    "ax[2,1].set_title('Wnv incidence: clustered by weather', fontsize=16)\n",
    "\n",
    "plt.tight_layout()\n",
    "plt.show();\n",
    "\n",
    "# Clear to see that both Wnv and NumMosquitos was highest in certain Traps, years, and months."
   ]
  },
  {
   "cell_type": "markdown",
   "metadata": {},
   "source": [
    "## Modelling"
   ]
  },
  {
   "cell_type": "markdown",
   "metadata": {},
   "source": [
    "#### Setting up (X, y)"
   ]
  },
  {
   "cell_type": "code",
   "execution_count": 17,
   "metadata": {
    "ExecuteTime": {
     "end_time": "2020-03-10T16:11:51.994390Z",
     "start_time": "2020-03-10T16:11:51.910385Z"
    }
   },
   "outputs": [],
   "source": [
    "y, X = train_df['WnvPresent'], train_df[['Species','Trap','weather_PC1','weather_PC2','weather_PC3','weather_PC4',\n",
    "                                         'weather_PC5','weather_PC6','weather_PC7','weather_PC8',\n",
    "                                         'weather_PC9','weather_PC10','isSpray']]\n",
    "X_dum = pd.get_dummies(X, drop_first=True, columns=['Species','Trap'])\n",
    "\n",
    "# instantiate pre-processing steps:\n",
    "std = StandardScaler()\n",
    "sm = SMOTENC(categorical_features=list(range(10,152)))\n",
    "ovr = RandomOverSampler()\n",
    "kf = StratifiedKFold(n_splits=5, shuffle=True, random_state=1)"
   ]
  },
  {
   "cell_type": "markdown",
   "metadata": {},
   "source": [
    "### Sci-kit Learn GridSearchCV tuning classifiers"
   ]
  },
  {
   "cell_type": "markdown",
   "metadata": {},
   "source": [
    "#### Logistic Regression"
   ]
  },
  {
   "cell_type": "code",
   "execution_count": null,
   "metadata": {
    "ExecuteTime": {
     "end_time": "2020-03-04T18:22:17.462439Z",
     "start_time": "2020-03-04T18:22:02.771092Z"
    },
    "scrolled": true
   },
   "outputs": [],
   "source": [
    "lr = LogisticRegression(fit_intercept=False)\n",
    "params = {'lr__penalty':['l2'],\n",
    "          'lr__C':[0.1]\n",
    "          'lr__C':np.logspace(-4,-1,4)}\n",
    "\n",
    "pipeline = Pipeline([('std', std), ('ovr', ovr), ('lr', lr)])\n",
    "\n",
    "gs_lr = GridSearchCV(pipeline, params, verbose=1, n_jobs=2, cv=kf, scoring='roc_auc')\n",
    "gs_lr.fit(X_dum, y)\n",
    "print(gs_lr.best_params_)\n",
    "print(gs_lr.best_score_)"
   ]
  },
  {
   "cell_type": "markdown",
   "metadata": {},
   "source": [
    "##### Logistic Regression Results"
   ]
  },
  {
   "cell_type": "code",
   "execution_count": null,
   "metadata": {
    "ExecuteTime": {
     "end_time": "2020-03-04T18:22:29.705813Z",
     "start_time": "2020-03-04T18:22:28.407470Z"
    }
   },
   "outputs": [],
   "source": [
    "fig, ax = plt.subplots(ncols=2, figsize=(12,6))\n",
    "gs_lr_coefficients = pd.DataFrame(gs_lr.best_estimator_.steps[2][1].coef_,\n",
    "                                  columns=X_dum.columns,\n",
    "                                  index=['coefficients']).T.sort_values('coefficients',ascending=True)\n",
    "ax[0].barh(gs_lr_coefficients.iloc[-30:,0].index, gs_lr_coefficients.iloc[-30:,0])\n",
    "ax[0].set_title('Top 30 positives...')\n",
    "ax[0].set_xlabel('Logistic Regression coefficients')\n",
    "ax[0].set_xlim([0,1.5])\n",
    "ax[1].barh(gs_lr_coefficients.iloc[:30,0].index, gs_lr_coefficients.iloc[:30,0])\n",
    "ax[1].set_title('Top 30 negatives')\n",
    "ax[1].set_xlabel('Logistic Regression coefficients')\n",
    "ax[1].set_xlim([-1.5,0])\n",
    "fig.tight_layout();"
   ]
  },
  {
   "cell_type": "code",
   "execution_count": null,
   "metadata": {
    "ExecuteTime": {
     "end_time": "2020-03-04T18:39:40.466826Z",
     "start_time": "2020-03-04T18:39:39.508935Z"
    }
   },
   "outputs": [],
   "source": [
    "lr_best = LogisticRegression(C=gs_lr.best_estimator_.steps[2][1].C,\n",
    "                             penalty=gs_lr.best_estimator_.steps[2][1].penalty)\n",
    "pipe_lr_best = Pipeline([('std', std), ('ovr', ovr), ('lr_best', lr_best)])\n",
    "pipe_lr_best.fit(X_dum, y)\n",
    "print('Confusion Matrix:')\n",
    "print(confusion_matrix(y, pipe_lr_best.predict(X_dum)))\n",
    "print('Classification Report:')\n",
    "print(classification_report(y, pipe_lr_best.predict(X_dum)))"
   ]
  },
  {
   "cell_type": "code",
   "execution_count": null,
   "metadata": {
    "ExecuteTime": {
     "end_time": "2020-03-04T19:45:48.552884Z",
     "start_time": "2020-03-04T19:45:47.439543Z"
    }
   },
   "outputs": [],
   "source": [
    "y_pp = pd.DataFrame(pipe_lr_best.predict_proba(X_dum), columns=['class_0_pp', 'class_1_pp'])\n",
    "\n",
    "# ROC curve\n",
    "fpr, tpr, threshold = roc_curve(y, y_pp.class_1_pp)\n",
    "roc_auc = auc(fpr, tpr)\n",
    "\n",
    "fig, ax = plt.subplots(ncols=2, figsize=(10,4))\n",
    "ax[0].plot(fpr, tpr, label='ROC curve (area = %0.2f)' % roc_auc, linewidth=4)\n",
    "ax[0].plot([0, 1], [0, 1], 'k--', linewidth=4)\n",
    "ax[0].set_xlabel('False Positive Rate')\n",
    "ax[0].set_ylabel('True Positive Rate')\n",
    "ax[0].legend(loc=\"lower right\")\n",
    "ax[0].set_title('ROC curve')\n",
    "\n",
    "# PR curve\n",
    "precision, recall, threshold = precision_recall_curve(y, y_pp.class_1_pp)\n",
    "\n",
    "ax[1].plot(recall, precision, label='Precision-recall curve', linewidth=4)\n",
    "ax[1].set_xlabel('Recall')\n",
    "ax[1].set_ylabel('Precision')\n",
    "ax[1].set_title('Precision-Recall curve')\n",
    "\n",
    "plt.tight_layout()\n",
    "plt.show()"
   ]
  },
  {
   "cell_type": "code",
   "execution_count": null,
   "metadata": {
    "ExecuteTime": {
     "end_time": "2020-03-04T18:41:35.880687Z",
     "start_time": "2020-03-04T18:41:35.841924Z"
    }
   },
   "outputs": [],
   "source": [
    "# Pickle if results are satisfactory:\n",
    "gs_lr_pickle_name = './pickle_objects/gs_lr_best_score_{}%.pkl'.format(np.round(gs_lr.best_score_*100,2))\n",
    "pickle.dump(gs_lr.best_estimator_, open(gs_lr_pickle_name, 'wb'))"
   ]
  },
  {
   "cell_type": "markdown",
   "metadata": {},
   "source": [
    "#### Decision Tree Classifier"
   ]
  },
  {
   "cell_type": "code",
   "execution_count": null,
   "metadata": {
    "ExecuteTime": {
     "end_time": "2020-03-04T21:15:05.007381Z",
     "start_time": "2020-03-04T21:14:38.492906Z"
    },
    "scrolled": true
   },
   "outputs": [],
   "source": [
    "dt = DecisionTreeClassifier()\n",
    "params = {'dt__max_depth':range(2,10),\n",
    "          'dt__max_features':np.linspace(0.1,0.5,4)}\n",
    "\n",
    "pipeline = Pipeline([('ovr', ovr), ('dt', dt)])\n",
    "\n",
    "gs_dt = GridSearchCV(pipeline, params, verbose=1, n_jobs=2, cv=kf, scoring='roc_auc')\n",
    "gs_dt.fit(X_dum, y)\n",
    "print(gs_dt.best_params_)\n",
    "print(gs_dt.best_score_)"
   ]
  },
  {
   "cell_type": "markdown",
   "metadata": {},
   "source": [
    "##### Decision Tree Results"
   ]
  },
  {
   "cell_type": "code",
   "execution_count": null,
   "metadata": {
    "scrolled": false
   },
   "outputs": [],
   "source": [
    "fig, ax = plt.subplots(ncols=2, figsize=(12,6))\n",
    "gs_dt_importances = pd.DataFrame(gs_dt.best_estimator_.steps[1][1].feature_importances_,\n",
    "                                  index=X_dum.columns,\n",
    "                                  columns=['importances']).sort_values('importances', ascending=True)\n",
    "ax[0].barh(gs_dt_importances.iloc[-30:,0].index, gs_dt_importances.iloc[-30:,0])\n",
    "ax[0].set_title('Top 30 Features...')\n",
    "ax[0].set_xlabel('Feature importances')\n",
    "ax[0].set_xlim([0,0.2])\n",
    "ax[1].barh(gs_dt_importances.iloc[-60:,:].iloc[:30,0].index, gs_dt_importances.iloc[-60:,:].iloc[:30,0])\n",
    "ax[1].set_title('...Next 30 Features')\n",
    "ax[1].set_xlabel('Feature importances')\n",
    "ax[1].set_xlim([0,0.2])\n",
    "fig.tight_layout();"
   ]
  },
  {
   "cell_type": "code",
   "execution_count": null,
   "metadata": {
    "ExecuteTime": {
     "end_time": "2020-03-04T19:43:23.433903Z",
     "start_time": "2020-03-04T19:43:22.833322Z"
    }
   },
   "outputs": [],
   "source": [
    "dt_best = DecisionTreeClassifier(max_depth=gs_dt.best_estimator_.steps[1][1].max_depth,\n",
    "                                 max_features=gs_dt.best_estimator_.steps[1][1].max_features)\n",
    "pipe_dt_best = Pipeline([('ovr', ovr), ('dt_best', dt_best)])\n",
    "pipe_dt_best.fit(X_dum, y)\n",
    "print('Confusion Matrix:')\n",
    "print(confusion_matrix(y, pipe_dt_best.predict(X_dum)))\n",
    "print('Classification Report:')\n",
    "print(classification_report(y, pipe_dt_best.predict(X_dum)))"
   ]
  },
  {
   "cell_type": "code",
   "execution_count": null,
   "metadata": {
    "ExecuteTime": {
     "end_time": "2020-03-04T20:11:32.530044Z",
     "start_time": "2020-03-04T20:11:31.453165Z"
    }
   },
   "outputs": [],
   "source": [
    "y_pp = pd.DataFrame(pipe_dt_best.predict_proba(X_dum), columns=['class_0_pp', 'class_1_pp'])\n",
    "\n",
    "# ROC curve\n",
    "fpr, tpr, threshold = roc_curve(y, y_pp.class_1_pp)\n",
    "roc_auc = auc(fpr, tpr)\n",
    "\n",
    "fig, ax = plt.subplots(ncols=2, figsize=(10,4))\n",
    "ax[0].plot(fpr, tpr, label='ROC curve (area = %0.2f)' % roc_auc, linewidth=4)\n",
    "ax[0].plot([0, 1], [0, 1], 'k--', linewidth=4)\n",
    "ax[0].set_xlabel('False Positive Rate')\n",
    "ax[0].set_ylabel('True Positive Rate')\n",
    "ax[0].legend(loc=\"lower right\")\n",
    "ax[0].set_title('ROC curve')\n",
    "\n",
    "# PR curve\n",
    "precision, recall, threshold = precision_recall_curve(y, y_pp.class_1_pp)\n",
    "\n",
    "ax[1].plot(recall, precision, label='Precision-recall curve', linewidth=4)\n",
    "ax[1].set_xlabel('Recall')\n",
    "ax[1].set_ylabel('Precision')\n",
    "ax[1].set_title('Precision-Recall curve')\n",
    "\n",
    "plt.tight_layout()\n",
    "plt.show()"
   ]
  },
  {
   "cell_type": "code",
   "execution_count": null,
   "metadata": {
    "ExecuteTime": {
     "end_time": "2020-03-04T20:24:41.693060Z",
     "start_time": "2020-03-04T20:24:39.390412Z"
    }
   },
   "outputs": [],
   "source": [
    "# Visualise Decision Tree\n",
    "dot_data = StringIO() \n",
    "export_graphviz(dt_best, out_file=dot_data, rounded=True,\n",
    "                special_characters=True,\n",
    "                feature_names=X_dum.columns,\n",
    "                max_depth=4)\n",
    "\n",
    "graph = pydotplus.graph_from_dot_data(dot_data.getvalue())  \n",
    "Image(graph.create_png())\n",
    "\n",
    "graph.write_png(\"dtree.png\")"
   ]
  },
  {
   "cell_type": "code",
   "execution_count": null,
   "metadata": {},
   "outputs": [],
   "source": [
    "# Pickle if results are satisfactory:\n",
    "gs_dt_pickle_name = './pickle_objects/gs_dt_best_score_{}%.pkl'.format(np.round(gs_dt.best_score_*100,2))\n",
    "pickle.dump(gs_dt.best_estimator_, open(gs_dt_pickle_name, 'wb'))"
   ]
  },
  {
   "cell_type": "markdown",
   "metadata": {},
   "source": [
    "#### Random Forest Classifier"
   ]
  },
  {
   "cell_type": "code",
   "execution_count": null,
   "metadata": {
    "ExecuteTime": {
     "end_time": "2020-03-04T20:49:34.329187Z",
     "start_time": "2020-03-04T20:31:28.673938Z"
    },
    "scrolled": true
   },
   "outputs": [],
   "source": [
    "rf = RandomForestClassifier(n_estimators=100)\n",
    "params = {'rf__max_depth': list(range(2,10))+[None],\n",
    "          'rf__max_features':np.linspace(0.1,1.0,4)}\n",
    "\n",
    "pipeline = Pipeline([('std', std), ('ovr', ovr), ('rf', rf)])\n",
    "\n",
    "gs_rf = GridSearchCV(pipeline, params, verbose=1, n_jobs=2, cv=kf, scoring='roc_auc')\n",
    "gs_rf.fit(X_dum, y)\n",
    "print(gs_rf.best_params_)\n",
    "print(gs_rf.best_score_)"
   ]
  },
  {
   "cell_type": "markdown",
   "metadata": {},
   "source": [
    "##### Random Forest Results"
   ]
  },
  {
   "cell_type": "code",
   "execution_count": null,
   "metadata": {},
   "outputs": [],
   "source": [
    "fig, ax = plt.subplots(ncols=2, figsize=(12,6))\n",
    "gs_rf_importances = pd.DataFrame(gs_rf.best_estimator_.steps[2][1].feature_importances_,\n",
    "                                  index=X_dum.columns,\n",
    "                                  columns=['importances']).sort_values('importances',ascending=True)\n",
    "ax[0].barh(gs_rf_importances.iloc[-30:,0].index, gs_rf_importances.iloc[-30:,0])\n",
    "ax[0].set_title('Top 30 Features...')\n",
    "ax[0].set_xlabel('Feature importances')\n",
    "ax[0].set_xlim([0,0.2])\n",
    "ax[1].barh(gs_rf_importances.iloc[-60:,:].iloc[:30,0].index, gs_rf_importances.iloc[-60:,:].iloc[:30,0])\n",
    "ax[1].set_title('...Next 30 Features')\n",
    "ax[1].set_xlabel('Feature importances')\n",
    "ax[1].set_xlim([0,0.2])\n",
    "fig.tight_layout();"
   ]
  },
  {
   "cell_type": "code",
   "execution_count": null,
   "metadata": {
    "ExecuteTime": {
     "end_time": "2020-03-04T20:52:36.977738Z",
     "start_time": "2020-03-04T20:52:27.291808Z"
    }
   },
   "outputs": [],
   "source": [
    "rf_best = RandomForestClassifier(n_estimators=100,\n",
    "                                 max_depth=gs_rf.best_estimator_.steps[2][1].max_depth,\n",
    "                                 max_features=gs_rf.best_estimator_.steps[2][1].max_features)\n",
    "pipe_rf_best = Pipeline([('std', std), ('ovr', ovr), ('rf_best', rf_best)])\n",
    "pipe_rf_best.fit(X_dum, y)\n",
    "print('Confusion Matrix:')\n",
    "print(confusion_matrix(y, pipe_rf_best.predict(X_dum)))\n",
    "print('Classification Report:')\n",
    "print(classification_report(y, pipe_rf_best.predict(X_dum)))"
   ]
  },
  {
   "cell_type": "code",
   "execution_count": null,
   "metadata": {},
   "outputs": [],
   "source": [
    "# Pickle if results are satisfactory:\n",
    "gs_rf_pickle_name = './pickle_objects/gs_rf_best_score_{}%.pkl'.format(np.round(gs_rf.best_score_*100,2))\n",
    "pickle.dump(gs_rf.best_estimator_, open(gs_rf_pickle_name, 'wb'))"
   ]
  },
  {
   "cell_type": "markdown",
   "metadata": {},
   "source": [
    "#### Bagging Classifier"
   ]
  },
  {
   "cell_type": "code",
   "execution_count": 16,
   "metadata": {
    "ExecuteTime": {
     "end_time": "2020-03-04T22:45:50.519473Z",
     "start_time": "2020-03-04T22:08:22.853970Z"
    },
    "collapsed": true
   },
   "outputs": [
    {
     "name": "stdout",
     "output_type": "stream",
     "text": [
      "Fitting 5 folds for each of 25 candidates, totalling 125 fits\n"
     ]
    },
    {
     "name": "stderr",
     "output_type": "stream",
     "text": [
      "[Parallel(n_jobs=2)]: Using backend LokyBackend with 2 concurrent workers.\n"
     ]
    },
    {
     "ename": "KeyboardInterrupt",
     "evalue": "",
     "output_type": "error",
     "traceback": [
      "\u001b[0;31m---------------------------------------------------------------------------\u001b[0m",
      "\u001b[0;31mKeyboardInterrupt\u001b[0m                         Traceback (most recent call last)",
      "\u001b[0;32m<ipython-input-16-fafc9e5c2f5f>\u001b[0m in \u001b[0;36m<module>\u001b[0;34m\u001b[0m\n\u001b[1;32m      7\u001b[0m \u001b[0;34m\u001b[0m\u001b[0m\n\u001b[1;32m      8\u001b[0m \u001b[0mgs_bc\u001b[0m \u001b[0;34m=\u001b[0m \u001b[0mGridSearchCV\u001b[0m\u001b[0;34m(\u001b[0m\u001b[0mpipeline\u001b[0m\u001b[0;34m,\u001b[0m \u001b[0mparams\u001b[0m\u001b[0;34m,\u001b[0m \u001b[0mverbose\u001b[0m\u001b[0;34m=\u001b[0m\u001b[0;36m1\u001b[0m\u001b[0;34m,\u001b[0m \u001b[0mn_jobs\u001b[0m\u001b[0;34m=\u001b[0m\u001b[0;36m2\u001b[0m\u001b[0;34m,\u001b[0m \u001b[0mcv\u001b[0m\u001b[0;34m=\u001b[0m\u001b[0mkf\u001b[0m\u001b[0;34m,\u001b[0m \u001b[0mscoring\u001b[0m\u001b[0;34m=\u001b[0m\u001b[0;34m'roc_auc'\u001b[0m\u001b[0;34m)\u001b[0m\u001b[0;34m\u001b[0m\u001b[0;34m\u001b[0m\u001b[0m\n\u001b[0;32m----> 9\u001b[0;31m \u001b[0mgs_bc\u001b[0m\u001b[0;34m.\u001b[0m\u001b[0mfit\u001b[0m\u001b[0;34m(\u001b[0m\u001b[0mX_dum\u001b[0m\u001b[0;34m,\u001b[0m \u001b[0my\u001b[0m\u001b[0;34m)\u001b[0m\u001b[0;34m\u001b[0m\u001b[0;34m\u001b[0m\u001b[0m\n\u001b[0m\u001b[1;32m     10\u001b[0m \u001b[0mprint\u001b[0m\u001b[0;34m(\u001b[0m\u001b[0mgs_bc\u001b[0m\u001b[0;34m.\u001b[0m\u001b[0mbest_params_\u001b[0m\u001b[0;34m)\u001b[0m\u001b[0;34m\u001b[0m\u001b[0;34m\u001b[0m\u001b[0m\n\u001b[1;32m     11\u001b[0m \u001b[0mprint\u001b[0m\u001b[0;34m(\u001b[0m\u001b[0mgs_bc\u001b[0m\u001b[0;34m.\u001b[0m\u001b[0mbest_score_\u001b[0m\u001b[0;34m)\u001b[0m\u001b[0;34m\u001b[0m\u001b[0;34m\u001b[0m\u001b[0m\n",
      "\u001b[0;32m~/anaconda3/envs/tensorflow_env/lib/python3.7/site-packages/sklearn/model_selection/_search.py\u001b[0m in \u001b[0;36mfit\u001b[0;34m(self, X, y, groups, **fit_params)\u001b[0m\n\u001b[1;32m    708\u001b[0m                 \u001b[0;32mreturn\u001b[0m \u001b[0mresults\u001b[0m\u001b[0;34m\u001b[0m\u001b[0;34m\u001b[0m\u001b[0m\n\u001b[1;32m    709\u001b[0m \u001b[0;34m\u001b[0m\u001b[0m\n\u001b[0;32m--> 710\u001b[0;31m             \u001b[0mself\u001b[0m\u001b[0;34m.\u001b[0m\u001b[0m_run_search\u001b[0m\u001b[0;34m(\u001b[0m\u001b[0mevaluate_candidates\u001b[0m\u001b[0;34m)\u001b[0m\u001b[0;34m\u001b[0m\u001b[0;34m\u001b[0m\u001b[0m\n\u001b[0m\u001b[1;32m    711\u001b[0m \u001b[0;34m\u001b[0m\u001b[0m\n\u001b[1;32m    712\u001b[0m         \u001b[0;31m# For multi-metric evaluation, store the best_index_, best_params_ and\u001b[0m\u001b[0;34m\u001b[0m\u001b[0;34m\u001b[0m\u001b[0;34m\u001b[0m\u001b[0m\n",
      "\u001b[0;32m~/anaconda3/envs/tensorflow_env/lib/python3.7/site-packages/sklearn/model_selection/_search.py\u001b[0m in \u001b[0;36m_run_search\u001b[0;34m(self, evaluate_candidates)\u001b[0m\n\u001b[1;32m   1149\u001b[0m     \u001b[0;32mdef\u001b[0m \u001b[0m_run_search\u001b[0m\u001b[0;34m(\u001b[0m\u001b[0mself\u001b[0m\u001b[0;34m,\u001b[0m \u001b[0mevaluate_candidates\u001b[0m\u001b[0;34m)\u001b[0m\u001b[0;34m:\u001b[0m\u001b[0;34m\u001b[0m\u001b[0;34m\u001b[0m\u001b[0m\n\u001b[1;32m   1150\u001b[0m         \u001b[0;34m\"\"\"Search all candidates in param_grid\"\"\"\u001b[0m\u001b[0;34m\u001b[0m\u001b[0;34m\u001b[0m\u001b[0m\n\u001b[0;32m-> 1151\u001b[0;31m         \u001b[0mevaluate_candidates\u001b[0m\u001b[0;34m(\u001b[0m\u001b[0mParameterGrid\u001b[0m\u001b[0;34m(\u001b[0m\u001b[0mself\u001b[0m\u001b[0;34m.\u001b[0m\u001b[0mparam_grid\u001b[0m\u001b[0;34m)\u001b[0m\u001b[0;34m)\u001b[0m\u001b[0;34m\u001b[0m\u001b[0;34m\u001b[0m\u001b[0m\n\u001b[0m\u001b[1;32m   1152\u001b[0m \u001b[0;34m\u001b[0m\u001b[0m\n\u001b[1;32m   1153\u001b[0m \u001b[0;34m\u001b[0m\u001b[0m\n",
      "\u001b[0;32m~/anaconda3/envs/tensorflow_env/lib/python3.7/site-packages/sklearn/model_selection/_search.py\u001b[0m in \u001b[0;36mevaluate_candidates\u001b[0;34m(candidate_params)\u001b[0m\n\u001b[1;32m    687\u001b[0m                                \u001b[0;32mfor\u001b[0m \u001b[0mparameters\u001b[0m\u001b[0;34m,\u001b[0m \u001b[0;34m(\u001b[0m\u001b[0mtrain\u001b[0m\u001b[0;34m,\u001b[0m \u001b[0mtest\u001b[0m\u001b[0;34m)\u001b[0m\u001b[0;34m\u001b[0m\u001b[0;34m\u001b[0m\u001b[0m\n\u001b[1;32m    688\u001b[0m                                in product(candidate_params,\n\u001b[0;32m--> 689\u001b[0;31m                                           cv.split(X, y, groups)))\n\u001b[0m\u001b[1;32m    690\u001b[0m \u001b[0;34m\u001b[0m\u001b[0m\n\u001b[1;32m    691\u001b[0m                 \u001b[0;32mif\u001b[0m \u001b[0mlen\u001b[0m\u001b[0;34m(\u001b[0m\u001b[0mout\u001b[0m\u001b[0;34m)\u001b[0m \u001b[0;34m<\u001b[0m \u001b[0;36m1\u001b[0m\u001b[0;34m:\u001b[0m\u001b[0;34m\u001b[0m\u001b[0;34m\u001b[0m\u001b[0m\n",
      "\u001b[0;32m~/anaconda3/envs/tensorflow_env/lib/python3.7/site-packages/joblib/parallel.py\u001b[0m in \u001b[0;36m__call__\u001b[0;34m(self, iterable)\u001b[0m\n\u001b[1;32m   1015\u001b[0m \u001b[0;34m\u001b[0m\u001b[0m\n\u001b[1;32m   1016\u001b[0m             \u001b[0;32mwith\u001b[0m \u001b[0mself\u001b[0m\u001b[0;34m.\u001b[0m\u001b[0m_backend\u001b[0m\u001b[0;34m.\u001b[0m\u001b[0mretrieval_context\u001b[0m\u001b[0;34m(\u001b[0m\u001b[0;34m)\u001b[0m\u001b[0;34m:\u001b[0m\u001b[0;34m\u001b[0m\u001b[0;34m\u001b[0m\u001b[0m\n\u001b[0;32m-> 1017\u001b[0;31m                 \u001b[0mself\u001b[0m\u001b[0;34m.\u001b[0m\u001b[0mretrieve\u001b[0m\u001b[0;34m(\u001b[0m\u001b[0;34m)\u001b[0m\u001b[0;34m\u001b[0m\u001b[0;34m\u001b[0m\u001b[0m\n\u001b[0m\u001b[1;32m   1018\u001b[0m             \u001b[0;31m# Make sure that we get a last message telling us we are done\u001b[0m\u001b[0;34m\u001b[0m\u001b[0;34m\u001b[0m\u001b[0;34m\u001b[0m\u001b[0m\n\u001b[1;32m   1019\u001b[0m             \u001b[0melapsed_time\u001b[0m \u001b[0;34m=\u001b[0m \u001b[0mtime\u001b[0m\u001b[0;34m.\u001b[0m\u001b[0mtime\u001b[0m\u001b[0;34m(\u001b[0m\u001b[0;34m)\u001b[0m \u001b[0;34m-\u001b[0m \u001b[0mself\u001b[0m\u001b[0;34m.\u001b[0m\u001b[0m_start_time\u001b[0m\u001b[0;34m\u001b[0m\u001b[0;34m\u001b[0m\u001b[0m\n",
      "\u001b[0;32m~/anaconda3/envs/tensorflow_env/lib/python3.7/site-packages/joblib/parallel.py\u001b[0m in \u001b[0;36mretrieve\u001b[0;34m(self)\u001b[0m\n\u001b[1;32m    907\u001b[0m             \u001b[0;32mtry\u001b[0m\u001b[0;34m:\u001b[0m\u001b[0;34m\u001b[0m\u001b[0;34m\u001b[0m\u001b[0m\n\u001b[1;32m    908\u001b[0m                 \u001b[0;32mif\u001b[0m \u001b[0mgetattr\u001b[0m\u001b[0;34m(\u001b[0m\u001b[0mself\u001b[0m\u001b[0;34m.\u001b[0m\u001b[0m_backend\u001b[0m\u001b[0;34m,\u001b[0m \u001b[0;34m'supports_timeout'\u001b[0m\u001b[0;34m,\u001b[0m \u001b[0;32mFalse\u001b[0m\u001b[0;34m)\u001b[0m\u001b[0;34m:\u001b[0m\u001b[0;34m\u001b[0m\u001b[0;34m\u001b[0m\u001b[0m\n\u001b[0;32m--> 909\u001b[0;31m                     \u001b[0mself\u001b[0m\u001b[0;34m.\u001b[0m\u001b[0m_output\u001b[0m\u001b[0;34m.\u001b[0m\u001b[0mextend\u001b[0m\u001b[0;34m(\u001b[0m\u001b[0mjob\u001b[0m\u001b[0;34m.\u001b[0m\u001b[0mget\u001b[0m\u001b[0;34m(\u001b[0m\u001b[0mtimeout\u001b[0m\u001b[0;34m=\u001b[0m\u001b[0mself\u001b[0m\u001b[0;34m.\u001b[0m\u001b[0mtimeout\u001b[0m\u001b[0;34m)\u001b[0m\u001b[0;34m)\u001b[0m\u001b[0;34m\u001b[0m\u001b[0;34m\u001b[0m\u001b[0m\n\u001b[0m\u001b[1;32m    910\u001b[0m                 \u001b[0;32melse\u001b[0m\u001b[0;34m:\u001b[0m\u001b[0;34m\u001b[0m\u001b[0;34m\u001b[0m\u001b[0m\n\u001b[1;32m    911\u001b[0m                     \u001b[0mself\u001b[0m\u001b[0;34m.\u001b[0m\u001b[0m_output\u001b[0m\u001b[0;34m.\u001b[0m\u001b[0mextend\u001b[0m\u001b[0;34m(\u001b[0m\u001b[0mjob\u001b[0m\u001b[0;34m.\u001b[0m\u001b[0mget\u001b[0m\u001b[0;34m(\u001b[0m\u001b[0;34m)\u001b[0m\u001b[0;34m)\u001b[0m\u001b[0;34m\u001b[0m\u001b[0;34m\u001b[0m\u001b[0m\n",
      "\u001b[0;32m~/anaconda3/envs/tensorflow_env/lib/python3.7/site-packages/joblib/_parallel_backends.py\u001b[0m in \u001b[0;36mwrap_future_result\u001b[0;34m(future, timeout)\u001b[0m\n\u001b[1;32m    560\u001b[0m         AsyncResults.get from multiprocessing.\"\"\"\n\u001b[1;32m    561\u001b[0m         \u001b[0;32mtry\u001b[0m\u001b[0;34m:\u001b[0m\u001b[0;34m\u001b[0m\u001b[0;34m\u001b[0m\u001b[0m\n\u001b[0;32m--> 562\u001b[0;31m             \u001b[0;32mreturn\u001b[0m \u001b[0mfuture\u001b[0m\u001b[0;34m.\u001b[0m\u001b[0mresult\u001b[0m\u001b[0;34m(\u001b[0m\u001b[0mtimeout\u001b[0m\u001b[0;34m=\u001b[0m\u001b[0mtimeout\u001b[0m\u001b[0;34m)\u001b[0m\u001b[0;34m\u001b[0m\u001b[0;34m\u001b[0m\u001b[0m\n\u001b[0m\u001b[1;32m    563\u001b[0m         \u001b[0;32mexcept\u001b[0m \u001b[0mLokyTimeoutError\u001b[0m\u001b[0;34m:\u001b[0m\u001b[0;34m\u001b[0m\u001b[0;34m\u001b[0m\u001b[0m\n\u001b[1;32m    564\u001b[0m             \u001b[0;32mraise\u001b[0m \u001b[0mTimeoutError\u001b[0m\u001b[0;34m(\u001b[0m\u001b[0;34m)\u001b[0m\u001b[0;34m\u001b[0m\u001b[0;34m\u001b[0m\u001b[0m\n",
      "\u001b[0;32m~/anaconda3/envs/tensorflow_env/lib/python3.7/concurrent/futures/_base.py\u001b[0m in \u001b[0;36mresult\u001b[0;34m(self, timeout)\u001b[0m\n\u001b[1;32m    428\u001b[0m                 \u001b[0;32mreturn\u001b[0m \u001b[0mself\u001b[0m\u001b[0;34m.\u001b[0m\u001b[0m__get_result\u001b[0m\u001b[0;34m(\u001b[0m\u001b[0;34m)\u001b[0m\u001b[0;34m\u001b[0m\u001b[0;34m\u001b[0m\u001b[0m\n\u001b[1;32m    429\u001b[0m \u001b[0;34m\u001b[0m\u001b[0m\n\u001b[0;32m--> 430\u001b[0;31m             \u001b[0mself\u001b[0m\u001b[0;34m.\u001b[0m\u001b[0m_condition\u001b[0m\u001b[0;34m.\u001b[0m\u001b[0mwait\u001b[0m\u001b[0;34m(\u001b[0m\u001b[0mtimeout\u001b[0m\u001b[0;34m)\u001b[0m\u001b[0;34m\u001b[0m\u001b[0;34m\u001b[0m\u001b[0m\n\u001b[0m\u001b[1;32m    431\u001b[0m \u001b[0;34m\u001b[0m\u001b[0m\n\u001b[1;32m    432\u001b[0m             \u001b[0;32mif\u001b[0m \u001b[0mself\u001b[0m\u001b[0;34m.\u001b[0m\u001b[0m_state\u001b[0m \u001b[0;32min\u001b[0m \u001b[0;34m[\u001b[0m\u001b[0mCANCELLED\u001b[0m\u001b[0;34m,\u001b[0m \u001b[0mCANCELLED_AND_NOTIFIED\u001b[0m\u001b[0;34m]\u001b[0m\u001b[0;34m:\u001b[0m\u001b[0;34m\u001b[0m\u001b[0;34m\u001b[0m\u001b[0m\n",
      "\u001b[0;32m~/anaconda3/envs/tensorflow_env/lib/python3.7/threading.py\u001b[0m in \u001b[0;36mwait\u001b[0;34m(self, timeout)\u001b[0m\n\u001b[1;32m    294\u001b[0m         \u001b[0;32mtry\u001b[0m\u001b[0;34m:\u001b[0m    \u001b[0;31m# restore state no matter what (e.g., KeyboardInterrupt)\u001b[0m\u001b[0;34m\u001b[0m\u001b[0;34m\u001b[0m\u001b[0m\n\u001b[1;32m    295\u001b[0m             \u001b[0;32mif\u001b[0m \u001b[0mtimeout\u001b[0m \u001b[0;32mis\u001b[0m \u001b[0;32mNone\u001b[0m\u001b[0;34m:\u001b[0m\u001b[0;34m\u001b[0m\u001b[0;34m\u001b[0m\u001b[0m\n\u001b[0;32m--> 296\u001b[0;31m                 \u001b[0mwaiter\u001b[0m\u001b[0;34m.\u001b[0m\u001b[0macquire\u001b[0m\u001b[0;34m(\u001b[0m\u001b[0;34m)\u001b[0m\u001b[0;34m\u001b[0m\u001b[0;34m\u001b[0m\u001b[0m\n\u001b[0m\u001b[1;32m    297\u001b[0m                 \u001b[0mgotit\u001b[0m \u001b[0;34m=\u001b[0m \u001b[0;32mTrue\u001b[0m\u001b[0;34m\u001b[0m\u001b[0;34m\u001b[0m\u001b[0m\n\u001b[1;32m    298\u001b[0m             \u001b[0;32melse\u001b[0m\u001b[0;34m:\u001b[0m\u001b[0;34m\u001b[0m\u001b[0;34m\u001b[0m\u001b[0m\n",
      "\u001b[0;31mKeyboardInterrupt\u001b[0m: "
     ]
    }
   ],
   "source": [
    "bc = BaggingClassifier(n_estimators=100)\n",
    "params = {'bc__max_samples': np.linspace(0.1, 1, 5),\n",
    "          'bc__max_features': np.linspace(0.1, 1, 5)}\n",
    "\n",
    "pipeline = Pipeline([('std', std), ('ovr', ovr), ('bc', bc)])\n",
    "\n",
    "gs_bc = GridSearchCV(pipeline, params, verbose=1, n_jobs=2, cv=kf, scoring='roc_auc')\n",
    "gs_bc.fit(X_dum, y)\n",
    "print(gs_bc.best_params_)\n",
    "print(gs_bc.best_score_)"
   ]
  },
  {
   "cell_type": "code",
   "execution_count": null,
   "metadata": {
    "ExecuteTime": {
     "end_time": "2020-03-04T22:45:50.759220Z",
     "start_time": "2020-03-04T22:10:28.095Z"
    }
   },
   "outputs": [],
   "source": [
    "bc_best = BaggingClassifier(n_estimators=100,\n",
    "                            max_samples=gs_bc.best_estimator_.steps[2][1].max_samples,\n",
    "                            max_features=gs_bc.best_estimator_.steps[2][1].max_features)\n",
    "pipe_bc_best = Pipeline([('std', std), ('ovr', ovr), ('bc_best', bc_best)])\n",
    "pipe_bc_best.fit(X_dum, y)\n",
    "print('Confusion Matrix:')\n",
    "print(confusion_matrix(y, pipe_bc_best.predict(X_dum)))\n",
    "print('Classification Report:')\n",
    "print(classification_report(y, pipe_bc_best.predict(X_dum)))"
   ]
  },
  {
   "cell_type": "code",
   "execution_count": null,
   "metadata": {
    "ExecuteTime": {
     "end_time": "2020-03-04T18:03:07.657081Z",
     "start_time": "2020-03-04T18:03:06.933223Z"
    }
   },
   "outputs": [],
   "source": [
    "y_pp = pd.DataFrame(pipe_bc_best.predict_proba(X_dum), columns=['class_0_pp', 'class_1_pp'])\n",
    "\n",
    "# ROC curve\n",
    "fpr, tpr, threshold = roc_curve(y, y_pp.class_1_pp)\n",
    "roc_auc = auc(fpr, tpr)\n",
    "\n",
    "fig, ax = plt.subplots(ncols=2, figsize=(10,4))\n",
    "ax[0].plot(fpr, tpr, label='ROC curve (area = %0.2f)' % roc_auc, linewidth=4)\n",
    "ax[0].plot([0, 1], [0, 1], 'k--', linewidth=4)\n",
    "ax[0].set_xlabel('False Positive Rate')\n",
    "ax[0].set_ylabel('True Positive Rate')\n",
    "ax[0].legend(loc=\"lower right\")\n",
    "ax[0].set_title('ROC curve')\n",
    "\n",
    "# PR curve\n",
    "precision, recall, threshold = precision_recall_curve(y, y_pp.class_1_pp)\n",
    "\n",
    "ax[1].plot(recall, precision, label='Precision-recall curve', linewidth=4)\n",
    "ax[1].set_xlabel('Recall')\n",
    "ax[1].set_ylabel('Precision')\n",
    "ax[1].set_title('Precision-Recall curve')\n",
    "\n",
    "plt.tight_layout()\n",
    "plt.show()"
   ]
  },
  {
   "cell_type": "code",
   "execution_count": null,
   "metadata": {
    "ExecuteTime": {
     "end_time": "2020-03-04T18:04:02.394355Z",
     "start_time": "2020-03-04T18:04:02.328946Z"
    }
   },
   "outputs": [],
   "source": [
    "# Pickle if results are satisfactory:\n",
    "gs_bc_pickle_name = './pickle_objects/gs_bc_best_score_{}%.pkl'.format(np.round(gs_bc.best_score_*100,2))\n",
    "pickle.dump(gs_bc.best_estimator_, open(gs_bc_pickle_name, 'wb'))"
   ]
  },
  {
   "cell_type": "markdown",
   "metadata": {},
   "source": [
    "#### Gradient Boosting Classifier"
   ]
  },
  {
   "cell_type": "code",
   "execution_count": 139,
   "metadata": {
    "ExecuteTime": {
     "end_time": "2020-03-11T15:43:40.358730Z",
     "start_time": "2020-03-11T15:40:46.863610Z"
    }
   },
   "outputs": [
    {
     "name": "stdout",
     "output_type": "stream",
     "text": [
      "Fitting 5 folds for each of 1 candidates, totalling 5 fits\n"
     ]
    },
    {
     "name": "stderr",
     "output_type": "stream",
     "text": [
      "[Parallel(n_jobs=2)]: Using backend LokyBackend with 2 concurrent workers.\n",
      "[Parallel(n_jobs=2)]: Done   5 out of   5 | elapsed:  2.2min finished\n"
     ]
    },
    {
     "name": "stdout",
     "output_type": "stream",
     "text": [
      "{'gb__learning_rate': 0.0035, 'gb__max_depth': 9, 'gb__max_features': 8}\n",
      "0.8288847150424248\n"
     ]
    }
   ],
   "source": [
    "gb = GradientBoostingClassifier(n_estimators=1000, n_iter_no_change=20)\n",
    "params = {'gb__learning_rate': np.linspace(.01,0.2,4),\n",
    "          'gb__max_depth':range(6,10),\n",
    "          'gb__max_features':np.linspace(0.05,0.5,4)}\n",
    "\n",
    "pipeline = Pipeline([('std', std), ('ovr', ovr), ('gb', gb)])\n",
    "\n",
    "gs_gb = GridSearchCV(pipeline, params, verbose=1, n_jobs=2, cv=kf, scoring='roc_auc')\n",
    "gs_gb.fit(X_dum, y)\n",
    "print(gs_gb.best_params_)\n",
    "print(gs_gb.best_score_)"
   ]
  },
  {
   "cell_type": "code",
   "execution_count": null,
   "metadata": {
    "ExecuteTime": {
     "end_time": "2020-03-04T18:05:38.091564Z",
     "start_time": "2020-03-04T18:05:36.831581Z"
    }
   },
   "outputs": [],
   "source": [
    "gb_feature_importances = pd.DataFrame(gs_gb.best_estimator_.steps[2][1].feature_importances_,\n",
    "                                      index=X_dum.columns,\n",
    "                                      columns=['importances']).sort_values('importances')\n",
    "\n",
    "fig, ax = plt.subplots(ncols=2, figsize=(12,6))\n",
    "ax[0].barh(gb_feature_importances.iloc[-30:,0].index, gb_feature_importances.iloc[-30:,0])\n",
    "ax[0].set_title('Top 30...')\n",
    "ax[0].set_xlabel('Gradient Boosting importances')\n",
    "ax[0].set_xlim([0,0.1])\n",
    "ax[1].barh(gb_feature_importances.iloc[:30,0].index, gb_feature_importances.iloc[:30,0])\n",
    "ax[1].set_title('...Next 30')\n",
    "ax[1].set_xlabel('Gradient Boosting importances')\n",
    "ax[1].set_xlim([0,0.1])\n",
    "fig.tight_layout();"
   ]
  },
  {
   "cell_type": "code",
   "execution_count": 140,
   "metadata": {
    "ExecuteTime": {
     "end_time": "2020-03-11T15:51:31.995575Z",
     "start_time": "2020-03-11T15:50:51.431831Z"
    }
   },
   "outputs": [
    {
     "name": "stdout",
     "output_type": "stream",
     "text": [
      "Confusion Matrix:\n",
      "[[7755 2200]\n",
      " [  47  504]]\n",
      "Classification Report:\n",
      "              precision    recall  f1-score   support\n",
      "\n",
      "           0       0.99      0.78      0.87      9955\n",
      "           1       0.19      0.91      0.31       551\n",
      "\n",
      "    accuracy                           0.79     10506\n",
      "   macro avg       0.59      0.85      0.59     10506\n",
      "weighted avg       0.95      0.79      0.84     10506\n",
      "\n"
     ]
    }
   ],
   "source": [
    "gb_best = GradientBoostingClassifier(n_estimators=1000, n_iter_no_change=20,\n",
    "                                     learning_rate=gs_gb.best_estimator_.steps[2][1].learning_rate,\n",
    "                                     max_depth=gs_gb.best_estimator_.steps[2][1].max_depth,\n",
    "                                     max_features=gs_gb.best_estimator_.steps[2][1].max_features)\n",
    "pipe_gb_best = Pipeline([('std', std), ('ovr', ovr), ('gb_best', gb_best)])\n",
    "pipe_gb_best.fit(X_dum, y)\n",
    "print('Confusion Matrix:')\n",
    "print(confusion_matrix(y, pipe_gb_best.predict(X_dum)))\n",
    "print('Classification Report:')\n",
    "print(classification_report(y, pipe_gb_best.predict(X_dum)))"
   ]
  },
  {
   "cell_type": "code",
   "execution_count": 25,
   "metadata": {
    "ExecuteTime": {
     "end_time": "2020-03-10T16:23:36.347682Z",
     "start_time": "2020-03-10T16:23:34.747041Z"
    }
   },
   "outputs": [
    {
     "data": {
      "image/png": "[encoded data removed]",
      "text/plain": [
       "<Figure size 864x288 with 3 Axes>"
      ]
     },
     "metadata": {
      "needs_background": "dark"
     },
     "output_type": "display_data"
    }
   ],
   "source": [
    "#pipe_gb_best.fit(X_dum, y)\n",
    "y_pp = pd.DataFrame(pipe_gb_best.predict_proba(X_dum), columns=['class_0_pp', 'class_1_pp'])\n",
    "\n",
    "# ROC curve\n",
    "fpr, tpr, threshold = roc_curve(y, y_pp.class_1_pp)\n",
    "roc_auc = auc(fpr, tpr)\n",
    "\n",
    "fig, ax = plt.subplots(ncols=3, figsize=(12,4))\n",
    "ax[0].plot(fpr, tpr, label='ROC curve (area = %0.2f)' % roc_auc, linewidth=4)\n",
    "ax[0].plot([0, 1], [0, 1], 'k--', linewidth=4)\n",
    "ax[0].set_xlabel('False Positive Rate')\n",
    "ax[0].set_ylabel('True Positive Rate')\n",
    "ax[0].legend(loc=\"lower right\")\n",
    "ax[0].set_title('ROC curve')\n",
    "\n",
    "# PR curve\n",
    "precision, recall, threshold = precision_recall_curve(y, y_pp.class_1_pp)\n",
    "\n",
    "ax[1].plot(recall, precision, label='Precision-recall curve', linewidth=4)\n",
    "ax[1].set_xlabel('Recall')\n",
    "ax[1].set_ylabel('Precision')\n",
    "ax[1].set_title('Precision-Recall curve')\n",
    "\n",
    "# Threshold Tuning chart\n",
    "ax[2].plot(threshold, precision[:-1], label='Precision vs Threshold', linewidth=4)\n",
    "ax[2].plot(threshold, recall[:-1], label='Recall vs Threshold', c='k', linewidth=4)\n",
    "ax[2].set_xlabel('Threshold', fontsize=12)\n",
    "ax[2].set_ylabel('Precision', fontsize=12)\n",
    "ax[2].set_title('Precision vs Prob(Model)', fontsize=12)\n",
    "plt.legend(loc=\"lower right\")\n",
    "\n",
    "plt.tight_layout()\n",
    "plt.show()"
   ]
  },
  {
   "cell_type": "markdown",
   "metadata": {},
   "source": [
    "##### Gradient Boosting threshold tuning"
   ]
  },
  {
   "cell_type": "code",
   "execution_count": 32,
   "metadata": {
    "ExecuteTime": {
     "end_time": "2020-03-10T16:39:24.515825Z",
     "start_time": "2020-03-10T16:39:24.506230Z"
    }
   },
   "outputs": [],
   "source": [
    "from sklearn.metrics import precision_score, recall_score, f1_score\n",
    "\n",
    "def predict_at_threshold(x, threshold=0.5):\n",
    "    if x >= threshold:\n",
    "        return 1\n",
    "    else:\n",
    "        return 0\n",
    "\n",
    "def scores_at_thresholds(probs_df):\n",
    "    predictions = [probs_df.apply(predict_at_threshold, threshold=i) \n",
    "                   for i in np.linspace(0, 1, 100)]\n",
    "    scores = np.array(\n",
    "    [(threshold, \n",
    "      accuracy_score(y, predictions[i]),\n",
    "      precision_score(y, predictions[i]),\n",
    "      recall_score(y, predictions[i]), \n",
    "      f1_score(y, predictions[i])) \n",
    "     for i, threshold in enumerate(np.linspace(0, 1, 100))])\n",
    "    return scores"
   ]
  },
  {
   "cell_type": "code",
   "execution_count": 33,
   "metadata": {
    "ExecuteTime": {
     "end_time": "2020-03-10T16:39:28.262530Z",
     "start_time": "2020-03-10T16:39:25.338538Z"
    }
   },
   "outputs": [
    {
     "name": "stderr",
     "output_type": "stream",
     "text": [
      "/Users/Noah/anaconda3/envs/tensorflow_env/lib/python3.7/site-packages/sklearn/metrics/_classification.py:1272: UndefinedMetricWarning: Precision is ill-defined and being set to 0.0 due to no predicted samples. Use `zero_division` parameter to control this behavior.\n",
      "  _warn_prf(average, modifier, msg_start, len(result))\n"
     ]
    },
    {
     "data": {
      "image/png": "[encoded data removed]",
      "text/plain": [
       "<Figure size 432x288 with 1 Axes>"
      ]
     },
     "metadata": {
      "needs_background": "light"
     },
     "output_type": "display_data"
    }
   ],
   "source": [
    "scores = scores_at_thresholds(y_pp.class_1_pp)\n",
    "\n",
    "plt.plot(scores[:, 0], scores[:, 1], label='accuracy')\n",
    "plt.plot(scores[:, 0], scores[:, 2], label='precision')\n",
    "plt.plot(scores[:, 0], scores[:, 3], label='recall')\n",
    "plt.plot(scores[:, 0], scores[:, 4], label='f1')\n",
    "plt.legend()\n",
    "plt.xlabel('threshold')\n",
    "plt.show()\n",
    "\n",
    "# A threshold of ~70% gives a peak F1-score of 50%, let's visualise this predict."
   ]
  },
  {
   "cell_type": "code",
   "execution_count": 37,
   "metadata": {
    "ExecuteTime": {
     "end_time": "2020-03-10T16:48:06.876410Z",
     "start_time": "2020-03-10T16:48:06.853520Z"
    }
   },
   "outputs": [],
   "source": [
    "pred_70pct = y_pp.class_1_pp.apply(predict_at_threshold, threshold=0.7)"
   ]
  },
  {
   "cell_type": "code",
   "execution_count": null,
   "metadata": {},
   "outputs": [],
   "source": [
    "# Pickle if results are satisfactory:\n",
    "gs_gb_pickle_name = './pickle_objects/gs_gb_best_score_{}%.pkl'.format(np.round(gs_gb.best_score_*100,2))\n",
    "pickle.dump(gs_gb.best_estimator_, open(gs_gb_pickle_name, 'wb'))"
   ]
  },
  {
   "cell_type": "markdown",
   "metadata": {},
   "source": [
    "### Append predicts"
   ]
  },
  {
   "cell_type": "code",
   "execution_count": 2,
   "metadata": {
    "ExecuteTime": {
     "end_time": "2020-03-10T16:00:54.227676Z",
     "start_time": "2020-03-10T16:00:28.616424Z"
    }
   },
   "outputs": [],
   "source": [
    "# Reload .pkl objects on restart:\n",
    "Tk().withdraw()\n",
    "pipe_lr_best = pickle.load(open(askopenfilename(), 'rb'))\n",
    "pipe_dt_best = pickle.load(open(askopenfilename(), 'rb'))\n",
    "pipe_rf_best = pickle.load(open(askopenfilename(), 'rb'))\n",
    "pipe_bc_best = pickle.load(open(askopenfilename(), 'rb'))\n",
    "pipe_gb_best = pickle.load(open(askopenfilename(), 'rb'))"
   ]
  },
  {
   "cell_type": "code",
   "execution_count": 39,
   "metadata": {
    "ExecuteTime": {
     "end_time": "2020-03-10T16:57:01.747731Z",
     "start_time": "2020-03-10T16:56:59.949753Z"
    }
   },
   "outputs": [
    {
     "name": "stderr",
     "output_type": "stream",
     "text": [
      "/Users/Noah/anaconda3/envs/tensorflow_env/lib/python3.7/site-packages/IPython/core/interactiveshell.py:3063: DtypeWarning: Columns (25,33,35,91) have mixed types.Specify dtype option on import or set low_memory=False.\n",
      "  interactivity=interactivity, compiler=compiler, result=result)\n"
     ]
    }
   ],
   "source": [
    "train_predict_df = pd.read_csv('./datasets/train_predict_df.csv')\n",
    "pipe_lr_best.fit(X_dum, y)\n",
    "train_predict_df['lr_predict'] = pipe_lr_best.predict(X_dum)\n",
    "pipe_dt_best.fit(X_dum, y)\n",
    "train_predict_df['dt_predict'] = pipe_dt_best.predict(X_dum)\n",
    "pipe_rf_best.fit(X_dum, y)\n",
    "train_predict_df['rf_predict'] = pipe_rf_best.predict(X_dum)\n",
    "pipe_bc_best.fit(X_dum, y)\n",
    "train_predict_df['bc_predict'] = pipe_bc_best.predict(X_dum)\n",
    "pipe_gb_best.fit(X_dum, y)\n",
    "train_predict_df['gb_predict'] = pipe_gb_best.predict(X_dum)\n",
    "train_predict_df['gb_tuned_predict'] = pred_70pct\n",
    "train_predict_df.to_csv('./datasets/train_predict_df.csv')"
   ]
  },
  {
   "cell_type": "code",
   "execution_count": 41,
   "metadata": {
    "ExecuteTime": {
     "end_time": "2020-03-10T16:58:17.841710Z",
     "start_time": "2020-03-10T16:58:17.829780Z"
    },
    "code_folding": [
     0
    ]
   },
   "outputs": [],
   "source": [
    "def vs_actual_labeller(df):\n",
    "    if df.iloc[0] and df.iloc[1]:\n",
    "        label = 'VirusCaught'\n",
    "    elif df.iloc[0] and not df.iloc[1]:\n",
    "        label = 'VirusMissed'\n",
    "    elif not df.iloc[0] and df.iloc[1]:\n",
    "        label = 'FalseAlarm'\n",
    "    else:\n",
    "        label = 'NoVirus'\n",
    "    return label"
   ]
  },
  {
   "cell_type": "code",
   "execution_count": 42,
   "metadata": {
    "ExecuteTime": {
     "end_time": "2020-03-10T16:58:20.728553Z",
     "start_time": "2020-03-10T16:58:18.682632Z"
    }
   },
   "outputs": [
    {
     "name": "stderr",
     "output_type": "stream",
     "text": [
      "/Users/Noah/anaconda3/envs/tensorflow_env/lib/python3.7/site-packages/IPython/core/interactiveshell.py:3063: DtypeWarning: Columns (26,34,36,92) have mixed types.Specify dtype option on import or set low_memory=False.\n",
      "  interactivity=interactivity, compiler=compiler, result=result)\n"
     ]
    }
   ],
   "source": [
    "train_predict_df = pd.read_csv('./datasets/train_predict_df.csv')\n",
    "\n",
    "#train_predict_df['lr_vs_actual'] = train_predict_df[['WnvPresent','lr_predict']].apply(vs_actual_labeller, axis=1)\n",
    "#train_predict_df['dt_vs_actual'] = train_predict_df[['WnvPresent','dt_predict']].apply(vs_actual_labeller, axis=1)\n",
    "#train_predict_df['rf_vs_actual'] = train_predict_df[['WnvPresent','rf_predict']].apply(vs_actual_labeller, axis=1)\n",
    "#train_predict_df['bc_vs_actual'] = train_predict_df[['WnvPresent','bc_predict']].apply(vs_actual_labeller, axis=1)\n",
    "#train_predict_df['gb_vs_actual'] = train_predict_df[['WnvPresent','gb_predict']].apply(vs_actual_labeller, axis=1)\n",
    "train_predict_df['gb_tuned_vs_actual'] = train_predict_df[['WnvPresent','gb_tuned_predict']].apply(vs_actual_labeller, axis=1)\n",
    "\n",
    "train_predict_df.to_csv('./datasets/train_predict_df.csv')"
   ]
  },
  {
   "cell_type": "markdown",
   "metadata": {},
   "source": [
    "## Kaggle Submission"
   ]
  },
  {
   "cell_type": "markdown",
   "metadata": {},
   "source": [
    "#### Setting up (X_test)"
   ]
  },
  {
   "cell_type": "code",
   "execution_count": 110,
   "metadata": {
    "ExecuteTime": {
     "end_time": "2020-03-11T14:41:56.597026Z",
     "start_time": "2020-03-11T14:36:56.562248Z"
    },
    "collapsed": true
   },
   "outputs": [
    {
     "name": "stderr",
     "output_type": "stream",
     "text": [
      "/Users/Noah/anaconda3/envs/tensorflow_env/lib/python3.7/site-packages/ipykernel_launcher.py:22: SettingWithCopyWarning: \n",
      "A value is trying to be set on a copy of a slice from a DataFrame.\n",
      "Try using .loc[row_indexer,col_indexer] = value instead\n",
      "\n",
      "See the caveats in the documentation: https://pandas.pydata.org/pandas-docs/stable/user_guide/indexing.html#returning-a-view-versus-a-copy\n",
      "/Users/Noah/anaconda3/envs/tensorflow_env/lib/python3.7/site-packages/ipykernel_launcher.py:23: SettingWithCopyWarning: \n",
      "A value is trying to be set on a copy of a slice from a DataFrame.\n",
      "Try using .loc[row_indexer,col_indexer] = value instead\n",
      "\n",
      "See the caveats in the documentation: https://pandas.pydata.org/pandas-docs/stable/user_guide/indexing.html#returning-a-view-versus-a-copy\n"
     ]
    }
   ],
   "source": [
    "X_test = test_df[['Species','Trap','weather_PC1','weather_PC2','weather_PC3','weather_PC4','weather_PC5',\n",
    "                  'weather_PC6','weather_PC7','weather_PC8','weather_PC9','weather_PC10','isSpray']]\n",
    "\n",
    "# create a mapping dictionary for columns newly found in test data:\n",
    "columns_to_map = [elem for elem in X_test_dum.columns if elem not in X_dum.columns]\n",
    "cols_map = {'UNSPECIFIED CULEX':'CULEX PIPIENS/RESTUANS',\n",
    "            'T234':'T005',\n",
    "            'T002A':'T002',\n",
    "            'T002B':'T002',\n",
    "            'T065A':'T065',\n",
    "            'T090A':'T090',\n",
    "            'T090B':'T090',\n",
    "            'T090C':'T090',\n",
    "            'T128A':'T128',\n",
    "            'T200A':'T200',\n",
    "            'T200B':'T200',\n",
    "            'T218A':'T218',\n",
    "            'T218B':'T218',\n",
    "            'T218C':'T218'}\n",
    "\n",
    "# implement mappings for Species and Trap:\n",
    "X_test['Species'] = [row if row in set(X.Species) else cols_map[str(row)] for row in X_test.Species]\n",
    "X_test['Trap'] = [row if row in set(X.Trap) else cols_map[str(row)] for row in X_test.Trap]\n",
    "\n",
    "X_test_dum = pd.get_dummies(X_test, drop_first=True, columns=['Species','Trap'])"
   ]
  },
  {
   "cell_type": "markdown",
   "metadata": {},
   "source": [
    "#### Model predictions"
   ]
  },
  {
   "cell_type": "code",
   "execution_count": 112,
   "metadata": {
    "ExecuteTime": {
     "end_time": "2020-03-11T14:54:04.242643Z",
     "start_time": "2020-03-11T14:53:03.943820Z"
    }
   },
   "outputs": [],
   "source": [
    "pipe_gb_best.fit(X_dum, y)\n",
    "y_test_pp = pd.DataFrame(pipe_gb_best.predict_proba(X_test_dum), columns=['class_0_pp', 'class_1_pp'])"
   ]
  },
  {
   "cell_type": "code",
   "execution_count": 141,
   "metadata": {
    "ExecuteTime": {
     "end_time": "2020-03-11T18:15:55.141335Z",
     "start_time": "2020-03-11T18:15:54.150552Z"
    }
   },
   "outputs": [],
   "source": [
    "threshold = 0.5\n",
    "submit_df = pd.DataFrame([1 if row >= threshold else 0 for row in y_test_pp.class_1_pp],\n",
    "                         columns=['WnvPresent'])\n",
    "\n",
    "submit_df.insert(0, 'Id', list(range(1,116294)))\n",
    "submit_df.to_csv('./datasets/submit_df.csv', index=False)"
   ]
  },
  {
   "cell_type": "code",
   "execution_count": null,
   "metadata": {},
   "outputs": [],
   "source": []
  }
 ],
 "metadata": {
  "kernelspec": {
   "display_name": "tensorflow_env",
   "language": "python",
   "name": "tensorflow_env"
  },
  "language_info": {
   "codemirror_mode": {
    "name": "ipython",
    "version": 3
   },
   "file_extension": ".py",
   "mimetype": "text/x-python",
   "name": "python",
   "nbconvert_exporter": "python",
   "pygments_lexer": "ipython3",
   "version": "3.7.4"
  },
  "toc": {
   "base_numbering": 1,
   "nav_menu": {},
   "number_sections": true,
   "sideBar": true,
   "skip_h1_title": false,
   "title_cell": "Table of Contents",
   "title_sidebar": "Contents",
   "toc_cell": false,
   "toc_position": {
    "height": "610px",
    "left": "91px",
    "top": "220.722px",
    "width": "320px"
   },
   "toc_section_display": true,
   "toc_window_display": true
  },
  "varInspector": {
   "cols": {
    "lenName": 16,
    "lenType": 16,
    "lenVar": 40
   },
   "kernels_config": {
    "python": {
     "delete_cmd_postfix": "",
     "delete_cmd_prefix": "del ",
     "library": "var_list.py",
     "varRefreshCmd": "print(var_dic_list())"
    },
    "r": {
     "delete_cmd_postfix": ") ",
     "delete_cmd_prefix": "rm(",
     "library": "var_list.r",
     "varRefreshCmd": "cat(var_dic_list()) "
    }
   },
   "position": {
    "height": "445.208px",
    "left": "1230px",
    "right": "20px",
    "top": "120px",
    "width": "350px"
   },
   "types_to_exclude": [
    "module",
    "function",
    "builtin_function_or_method",
    "instance",
    "_Feature"
   ],
   "window_display": false
  }
 },
 "nbformat": 4,
 "nbformat_minor": 2
}
